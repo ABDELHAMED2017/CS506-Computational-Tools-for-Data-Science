{
 "cells": [
  {
   "cell_type": "markdown",
   "metadata": {},
   "source": [
    "# Getting to know your data with Pandas"
   ]
  },
  {
   "cell_type": "markdown",
   "metadata": {},
   "source": [
    "## Pandas"
   ]
  },
  {
   "cell_type": "markdown",
   "metadata": {},
   "source": [
    "Pandas is Python Data Analysis Library. Pandas provides an R-like DataFrame, produces high quality plots with matplotlib, and integrates nicely with other libraries that expect NumPy arrays."
   ]
  },
  {
   "cell_type": "markdown",
   "metadata": {},
   "source": [
    "## Getting started"
   ]
  },
  {
   "cell_type": "code",
   "execution_count": 4,
   "metadata": {
    "collapsed": false
   },
   "outputs": [],
   "source": [
    "import pandas as pd\n",
    "import pandas_datareader.data as web\n",
    "from pandas import Series, DataFrame\n",
    "\n",
    "import matplotlib.pyplot as plt\n",
    "import matplotlib as mpl\n",
    "import seaborn as sns\n",
    "\n",
    "\n",
    "from datetime import datetime\n",
    "\n",
    "#pd.__version__\n",
    "\n",
    "%matplotlib inline"
   ]
  },
  {
   "cell_type": "markdown",
   "metadata": {},
   "source": [
    "## Fetching, storing and retrieving your data"
   ]
  },
  {
   "cell_type": "markdown",
   "metadata": {},
   "source": [
    "More information on what types of data you can fetch\n",
    "\n",
    "http://pandas.pydata.org/pandas-docs/stable/remote_data.html"
   ]
  },
  {
   "cell_type": "code",
   "execution_count": 15,
   "metadata": {
    "collapsed": false,
    "scrolled": true
   },
   "outputs": [
    {
     "name": "stdout",
     "output_type": "stream",
     "text": [
      "<class 'pandas.core.frame.DataFrame'>\n",
      "DatetimeIndex: 252 entries, 2015-01-02 to 2015-12-31\n",
      "Data columns (total 6 columns):\n",
      "Open         252 non-null float64\n",
      "High         252 non-null float64\n",
      "Low          252 non-null float64\n",
      "Close        252 non-null float64\n",
      "Volume       252 non-null int64\n",
      "Adj Close    252 non-null float64\n",
      "dtypes: float64(5), int64(1)\n",
      "memory usage: 13.8 KB\n"
     ]
    }
   ],
   "source": [
    "stocks = 'YELP'\n",
    "data_source = 'yahoo'\n",
    "start = datetime(2015,1,1)\n",
    "end = datetime(2015,12,31)\n",
    "\n",
    "yahoo_stocks = web.DataReader(stocks, data_source, start, end)\n",
    "\n",
    "# yahoo_stocks.head()\n",
    "yahoo_stocks.info()"
   ]
  },
  {
   "cell_type": "code",
   "execution_count": 14,
   "metadata": {
    "collapsed": false
   },
   "outputs": [
    {
     "data": {
      "text/html": [
       "<div>\n",
       "<table border=\"1\" class=\"dataframe\">\n",
       "  <thead>\n",
       "    <tr style=\"text-align: right;\">\n",
       "      <th></th>\n",
       "      <th>Open</th>\n",
       "      <th>High</th>\n",
       "      <th>Low</th>\n",
       "      <th>Close</th>\n",
       "      <th>Volume</th>\n",
       "      <th>Adj Close</th>\n",
       "    </tr>\n",
       "    <tr>\n",
       "      <th>Date</th>\n",
       "      <th></th>\n",
       "      <th></th>\n",
       "      <th></th>\n",
       "      <th></th>\n",
       "      <th></th>\n",
       "      <th></th>\n",
       "    </tr>\n",
       "  </thead>\n",
       "  <tbody>\n",
       "    <tr>\n",
       "      <th>2015-01-02</th>\n",
       "      <td>55.459999</td>\n",
       "      <td>55.599998</td>\n",
       "      <td>54.240002</td>\n",
       "      <td>55.150002</td>\n",
       "      <td>1664500</td>\n",
       "      <td>55.150002</td>\n",
       "    </tr>\n",
       "    <tr>\n",
       "      <th>2015-01-05</th>\n",
       "      <td>54.540001</td>\n",
       "      <td>54.950001</td>\n",
       "      <td>52.330002</td>\n",
       "      <td>52.529999</td>\n",
       "      <td>2023000</td>\n",
       "      <td>52.529999</td>\n",
       "    </tr>\n",
       "    <tr>\n",
       "      <th>2015-01-06</th>\n",
       "      <td>52.549999</td>\n",
       "      <td>53.930000</td>\n",
       "      <td>50.750000</td>\n",
       "      <td>52.439999</td>\n",
       "      <td>3762800</td>\n",
       "      <td>52.439999</td>\n",
       "    </tr>\n",
       "    <tr>\n",
       "      <th>2015-01-07</th>\n",
       "      <td>53.320000</td>\n",
       "      <td>53.750000</td>\n",
       "      <td>51.759998</td>\n",
       "      <td>52.209999</td>\n",
       "      <td>1548200</td>\n",
       "      <td>52.209999</td>\n",
       "    </tr>\n",
       "    <tr>\n",
       "      <th>2015-01-08</th>\n",
       "      <td>52.590000</td>\n",
       "      <td>54.139999</td>\n",
       "      <td>51.759998</td>\n",
       "      <td>53.830002</td>\n",
       "      <td>2015300</td>\n",
       "      <td>53.830002</td>\n",
       "    </tr>\n",
       "    <tr>\n",
       "      <th>2015-01-09</th>\n",
       "      <td>55.959999</td>\n",
       "      <td>56.990002</td>\n",
       "      <td>54.720001</td>\n",
       "      <td>56.070000</td>\n",
       "      <td>6222600</td>\n",
       "      <td>56.070000</td>\n",
       "    </tr>\n",
       "    <tr>\n",
       "      <th>2015-01-12</th>\n",
       "      <td>56.000000</td>\n",
       "      <td>56.060001</td>\n",
       "      <td>53.430000</td>\n",
       "      <td>54.020000</td>\n",
       "      <td>2405100</td>\n",
       "      <td>54.020000</td>\n",
       "    </tr>\n",
       "    <tr>\n",
       "      <th>2015-01-13</th>\n",
       "      <td>54.470001</td>\n",
       "      <td>54.799999</td>\n",
       "      <td>52.520000</td>\n",
       "      <td>53.180000</td>\n",
       "      <td>1952100</td>\n",
       "      <td>53.180000</td>\n",
       "    </tr>\n",
       "    <tr>\n",
       "      <th>2015-01-14</th>\n",
       "      <td>52.799999</td>\n",
       "      <td>53.680000</td>\n",
       "      <td>51.459999</td>\n",
       "      <td>52.200001</td>\n",
       "      <td>1854600</td>\n",
       "      <td>52.200001</td>\n",
       "    </tr>\n",
       "    <tr>\n",
       "      <th>2015-01-15</th>\n",
       "      <td>53.000000</td>\n",
       "      <td>53.610001</td>\n",
       "      <td>50.029999</td>\n",
       "      <td>50.119999</td>\n",
       "      <td>2640400</td>\n",
       "      <td>50.119999</td>\n",
       "    </tr>\n",
       "    <tr>\n",
       "      <th>2015-01-16</th>\n",
       "      <td>50.180000</td>\n",
       "      <td>51.490002</td>\n",
       "      <td>50.029999</td>\n",
       "      <td>51.389999</td>\n",
       "      <td>2183300</td>\n",
       "      <td>51.389999</td>\n",
       "    </tr>\n",
       "    <tr>\n",
       "      <th>2015-01-20</th>\n",
       "      <td>51.650002</td>\n",
       "      <td>51.779999</td>\n",
       "      <td>50.689999</td>\n",
       "      <td>51.410000</td>\n",
       "      <td>1227600</td>\n",
       "      <td>51.410000</td>\n",
       "    </tr>\n",
       "    <tr>\n",
       "      <th>2015-01-21</th>\n",
       "      <td>51.200001</td>\n",
       "      <td>53.500000</td>\n",
       "      <td>51.200001</td>\n",
       "      <td>53.410000</td>\n",
       "      <td>3248100</td>\n",
       "      <td>53.410000</td>\n",
       "    </tr>\n",
       "    <tr>\n",
       "      <th>2015-01-22</th>\n",
       "      <td>53.869999</td>\n",
       "      <td>55.279999</td>\n",
       "      <td>53.119999</td>\n",
       "      <td>54.799999</td>\n",
       "      <td>2295400</td>\n",
       "      <td>54.799999</td>\n",
       "    </tr>\n",
       "    <tr>\n",
       "      <th>2015-01-23</th>\n",
       "      <td>54.660000</td>\n",
       "      <td>55.639999</td>\n",
       "      <td>54.299999</td>\n",
       "      <td>55.189999</td>\n",
       "      <td>1636400</td>\n",
       "      <td>55.189999</td>\n",
       "    </tr>\n",
       "    <tr>\n",
       "      <th>2015-01-26</th>\n",
       "      <td>55.119999</td>\n",
       "      <td>55.790001</td>\n",
       "      <td>54.830002</td>\n",
       "      <td>55.410000</td>\n",
       "      <td>1450300</td>\n",
       "      <td>55.410000</td>\n",
       "    </tr>\n",
       "    <tr>\n",
       "      <th>2015-01-27</th>\n",
       "      <td>56.060001</td>\n",
       "      <td>56.160000</td>\n",
       "      <td>54.570000</td>\n",
       "      <td>55.630001</td>\n",
       "      <td>2410400</td>\n",
       "      <td>55.630001</td>\n",
       "    </tr>\n",
       "    <tr>\n",
       "      <th>2015-01-28</th>\n",
       "      <td>56.150002</td>\n",
       "      <td>56.150002</td>\n",
       "      <td>52.919998</td>\n",
       "      <td>53.000000</td>\n",
       "      <td>2013100</td>\n",
       "      <td>53.000000</td>\n",
       "    </tr>\n",
       "    <tr>\n",
       "      <th>2015-01-29</th>\n",
       "      <td>52.849998</td>\n",
       "      <td>53.310001</td>\n",
       "      <td>51.410000</td>\n",
       "      <td>52.930000</td>\n",
       "      <td>1844100</td>\n",
       "      <td>52.930000</td>\n",
       "    </tr>\n",
       "    <tr>\n",
       "      <th>2015-01-30</th>\n",
       "      <td>52.590000</td>\n",
       "      <td>53.419998</td>\n",
       "      <td>52.049999</td>\n",
       "      <td>52.470001</td>\n",
       "      <td>1875400</td>\n",
       "      <td>52.470001</td>\n",
       "    </tr>\n",
       "    <tr>\n",
       "      <th>2015-02-02</th>\n",
       "      <td>52.939999</td>\n",
       "      <td>53.500000</td>\n",
       "      <td>51.209999</td>\n",
       "      <td>53.470001</td>\n",
       "      <td>2105500</td>\n",
       "      <td>53.470001</td>\n",
       "    </tr>\n",
       "    <tr>\n",
       "      <th>2015-02-03</th>\n",
       "      <td>53.830002</td>\n",
       "      <td>55.930000</td>\n",
       "      <td>53.410000</td>\n",
       "      <td>55.779999</td>\n",
       "      <td>2885400</td>\n",
       "      <td>55.779999</td>\n",
       "    </tr>\n",
       "    <tr>\n",
       "      <th>2015-02-04</th>\n",
       "      <td>55.529999</td>\n",
       "      <td>57.070000</td>\n",
       "      <td>55.250000</td>\n",
       "      <td>56.740002</td>\n",
       "      <td>2498600</td>\n",
       "      <td>56.740002</td>\n",
       "    </tr>\n",
       "    <tr>\n",
       "      <th>2015-02-05</th>\n",
       "      <td>57.599998</td>\n",
       "      <td>57.700001</td>\n",
       "      <td>56.080002</td>\n",
       "      <td>57.470001</td>\n",
       "      <td>4657300</td>\n",
       "      <td>57.470001</td>\n",
       "    </tr>\n",
       "    <tr>\n",
       "      <th>2015-02-06</th>\n",
       "      <td>47.700001</td>\n",
       "      <td>48.169998</td>\n",
       "      <td>44.860001</td>\n",
       "      <td>45.110001</td>\n",
       "      <td>25137400</td>\n",
       "      <td>45.110001</td>\n",
       "    </tr>\n",
       "    <tr>\n",
       "      <th>2015-02-09</th>\n",
       "      <td>44.910000</td>\n",
       "      <td>45.040001</td>\n",
       "      <td>42.099998</td>\n",
       "      <td>42.169998</td>\n",
       "      <td>13079300</td>\n",
       "      <td>42.169998</td>\n",
       "    </tr>\n",
       "    <tr>\n",
       "      <th>2015-02-10</th>\n",
       "      <td>43.830002</td>\n",
       "      <td>45.549999</td>\n",
       "      <td>43.310001</td>\n",
       "      <td>44.660000</td>\n",
       "      <td>11267700</td>\n",
       "      <td>44.660000</td>\n",
       "    </tr>\n",
       "    <tr>\n",
       "      <th>2015-02-11</th>\n",
       "      <td>45.389999</td>\n",
       "      <td>46.430000</td>\n",
       "      <td>44.810001</td>\n",
       "      <td>46.180000</td>\n",
       "      <td>6359400</td>\n",
       "      <td>46.180000</td>\n",
       "    </tr>\n",
       "    <tr>\n",
       "      <th>2015-02-12</th>\n",
       "      <td>46.450001</td>\n",
       "      <td>47.840000</td>\n",
       "      <td>45.950001</td>\n",
       "      <td>47.630001</td>\n",
       "      <td>4375000</td>\n",
       "      <td>47.630001</td>\n",
       "    </tr>\n",
       "    <tr>\n",
       "      <th>2015-02-13</th>\n",
       "      <td>48.509998</td>\n",
       "      <td>49.049999</td>\n",
       "      <td>47.220001</td>\n",
       "      <td>47.529999</td>\n",
       "      <td>4713100</td>\n",
       "      <td>47.529999</td>\n",
       "    </tr>\n",
       "    <tr>\n",
       "      <th>...</th>\n",
       "      <td>...</td>\n",
       "      <td>...</td>\n",
       "      <td>...</td>\n",
       "      <td>...</td>\n",
       "      <td>...</td>\n",
       "      <td>...</td>\n",
       "    </tr>\n",
       "    <tr>\n",
       "      <th>2015-11-18</th>\n",
       "      <td>27.540001</td>\n",
       "      <td>28.830000</td>\n",
       "      <td>27.309999</td>\n",
       "      <td>28.230000</td>\n",
       "      <td>3091600</td>\n",
       "      <td>28.230000</td>\n",
       "    </tr>\n",
       "    <tr>\n",
       "      <th>2015-11-19</th>\n",
       "      <td>28.190001</td>\n",
       "      <td>28.690001</td>\n",
       "      <td>27.910000</td>\n",
       "      <td>28.059999</td>\n",
       "      <td>1487500</td>\n",
       "      <td>28.059999</td>\n",
       "    </tr>\n",
       "    <tr>\n",
       "      <th>2015-11-20</th>\n",
       "      <td>28.100000</td>\n",
       "      <td>31.250000</td>\n",
       "      <td>28.049999</td>\n",
       "      <td>31.209999</td>\n",
       "      <td>6697500</td>\n",
       "      <td>31.209999</td>\n",
       "    </tr>\n",
       "    <tr>\n",
       "      <th>2015-11-23</th>\n",
       "      <td>30.580000</td>\n",
       "      <td>30.809999</td>\n",
       "      <td>29.150000</td>\n",
       "      <td>29.860001</td>\n",
       "      <td>4029900</td>\n",
       "      <td>29.860001</td>\n",
       "    </tr>\n",
       "    <tr>\n",
       "      <th>2015-11-24</th>\n",
       "      <td>29.459999</td>\n",
       "      <td>30.629999</td>\n",
       "      <td>29.450001</td>\n",
       "      <td>30.010000</td>\n",
       "      <td>2584500</td>\n",
       "      <td>30.010000</td>\n",
       "    </tr>\n",
       "    <tr>\n",
       "      <th>2015-11-25</th>\n",
       "      <td>29.790001</td>\n",
       "      <td>30.540001</td>\n",
       "      <td>29.709999</td>\n",
       "      <td>30.510000</td>\n",
       "      <td>1287100</td>\n",
       "      <td>30.510000</td>\n",
       "    </tr>\n",
       "    <tr>\n",
       "      <th>2015-11-27</th>\n",
       "      <td>30.500000</td>\n",
       "      <td>30.600000</td>\n",
       "      <td>29.610001</td>\n",
       "      <td>30.180000</td>\n",
       "      <td>1058900</td>\n",
       "      <td>30.180000</td>\n",
       "    </tr>\n",
       "    <tr>\n",
       "      <th>2015-11-30</th>\n",
       "      <td>30.110001</td>\n",
       "      <td>30.719999</td>\n",
       "      <td>29.770000</td>\n",
       "      <td>30.129999</td>\n",
       "      <td>2015600</td>\n",
       "      <td>30.129999</td>\n",
       "    </tr>\n",
       "    <tr>\n",
       "      <th>2015-12-01</th>\n",
       "      <td>30.110001</td>\n",
       "      <td>30.459999</td>\n",
       "      <td>29.799999</td>\n",
       "      <td>30.309999</td>\n",
       "      <td>1886000</td>\n",
       "      <td>30.309999</td>\n",
       "    </tr>\n",
       "    <tr>\n",
       "      <th>2015-12-02</th>\n",
       "      <td>30.299999</td>\n",
       "      <td>32.470001</td>\n",
       "      <td>30.290001</td>\n",
       "      <td>31.389999</td>\n",
       "      <td>4650300</td>\n",
       "      <td>31.389999</td>\n",
       "    </tr>\n",
       "    <tr>\n",
       "      <th>2015-12-03</th>\n",
       "      <td>31.389999</td>\n",
       "      <td>32.240002</td>\n",
       "      <td>30.480000</td>\n",
       "      <td>30.629999</td>\n",
       "      <td>2698900</td>\n",
       "      <td>30.629999</td>\n",
       "    </tr>\n",
       "    <tr>\n",
       "      <th>2015-12-04</th>\n",
       "      <td>30.530001</td>\n",
       "      <td>30.860001</td>\n",
       "      <td>29.320000</td>\n",
       "      <td>30.450001</td>\n",
       "      <td>2313800</td>\n",
       "      <td>30.450001</td>\n",
       "    </tr>\n",
       "    <tr>\n",
       "      <th>2015-12-07</th>\n",
       "      <td>30.379999</td>\n",
       "      <td>30.639999</td>\n",
       "      <td>29.629999</td>\n",
       "      <td>30.040001</td>\n",
       "      <td>1362300</td>\n",
       "      <td>30.040001</td>\n",
       "    </tr>\n",
       "    <tr>\n",
       "      <th>2015-12-08</th>\n",
       "      <td>29.809999</td>\n",
       "      <td>31.379999</td>\n",
       "      <td>29.500000</td>\n",
       "      <td>30.920000</td>\n",
       "      <td>1830200</td>\n",
       "      <td>30.920000</td>\n",
       "    </tr>\n",
       "    <tr>\n",
       "      <th>2015-12-09</th>\n",
       "      <td>30.980000</td>\n",
       "      <td>31.139999</td>\n",
       "      <td>29.260000</td>\n",
       "      <td>30.000000</td>\n",
       "      <td>2238500</td>\n",
       "      <td>30.000000</td>\n",
       "    </tr>\n",
       "    <tr>\n",
       "      <th>2015-12-10</th>\n",
       "      <td>30.110001</td>\n",
       "      <td>31.299999</td>\n",
       "      <td>29.990000</td>\n",
       "      <td>30.830000</td>\n",
       "      <td>1252900</td>\n",
       "      <td>30.830000</td>\n",
       "    </tr>\n",
       "    <tr>\n",
       "      <th>2015-12-11</th>\n",
       "      <td>30.690001</td>\n",
       "      <td>30.750000</td>\n",
       "      <td>29.600000</td>\n",
       "      <td>29.650000</td>\n",
       "      <td>1415000</td>\n",
       "      <td>29.650000</td>\n",
       "    </tr>\n",
       "    <tr>\n",
       "      <th>2015-12-14</th>\n",
       "      <td>29.600000</td>\n",
       "      <td>29.889999</td>\n",
       "      <td>28.850000</td>\n",
       "      <td>29.580000</td>\n",
       "      <td>2328600</td>\n",
       "      <td>29.580000</td>\n",
       "    </tr>\n",
       "    <tr>\n",
       "      <th>2015-12-15</th>\n",
       "      <td>29.680000</td>\n",
       "      <td>30.000000</td>\n",
       "      <td>26.459999</td>\n",
       "      <td>26.870001</td>\n",
       "      <td>5759200</td>\n",
       "      <td>26.870001</td>\n",
       "    </tr>\n",
       "    <tr>\n",
       "      <th>2015-12-16</th>\n",
       "      <td>26.889999</td>\n",
       "      <td>28.240000</td>\n",
       "      <td>26.260000</td>\n",
       "      <td>28.030001</td>\n",
       "      <td>2992100</td>\n",
       "      <td>28.030001</td>\n",
       "    </tr>\n",
       "    <tr>\n",
       "      <th>2015-12-17</th>\n",
       "      <td>28.139999</td>\n",
       "      <td>28.320000</td>\n",
       "      <td>27.190001</td>\n",
       "      <td>27.420000</td>\n",
       "      <td>1483900</td>\n",
       "      <td>27.420000</td>\n",
       "    </tr>\n",
       "    <tr>\n",
       "      <th>2015-12-18</th>\n",
       "      <td>27.309999</td>\n",
       "      <td>27.910000</td>\n",
       "      <td>26.900000</td>\n",
       "      <td>27.170000</td>\n",
       "      <td>1299800</td>\n",
       "      <td>27.170000</td>\n",
       "    </tr>\n",
       "    <tr>\n",
       "      <th>2015-12-21</th>\n",
       "      <td>27.170000</td>\n",
       "      <td>27.360001</td>\n",
       "      <td>26.030001</td>\n",
       "      <td>26.250000</td>\n",
       "      <td>1947600</td>\n",
       "      <td>26.250000</td>\n",
       "    </tr>\n",
       "    <tr>\n",
       "      <th>2015-12-22</th>\n",
       "      <td>26.250000</td>\n",
       "      <td>28.700001</td>\n",
       "      <td>26.150000</td>\n",
       "      <td>27.930000</td>\n",
       "      <td>2952700</td>\n",
       "      <td>27.930000</td>\n",
       "    </tr>\n",
       "    <tr>\n",
       "      <th>2015-12-23</th>\n",
       "      <td>27.950001</td>\n",
       "      <td>28.420000</td>\n",
       "      <td>27.440001</td>\n",
       "      <td>28.150000</td>\n",
       "      <td>1001000</td>\n",
       "      <td>28.150000</td>\n",
       "    </tr>\n",
       "    <tr>\n",
       "      <th>2015-12-24</th>\n",
       "      <td>28.270000</td>\n",
       "      <td>28.590000</td>\n",
       "      <td>27.900000</td>\n",
       "      <td>28.400000</td>\n",
       "      <td>587400</td>\n",
       "      <td>28.400000</td>\n",
       "    </tr>\n",
       "    <tr>\n",
       "      <th>2015-12-28</th>\n",
       "      <td>28.120001</td>\n",
       "      <td>28.379999</td>\n",
       "      <td>27.770000</td>\n",
       "      <td>27.879999</td>\n",
       "      <td>1004500</td>\n",
       "      <td>27.879999</td>\n",
       "    </tr>\n",
       "    <tr>\n",
       "      <th>2015-12-29</th>\n",
       "      <td>27.950001</td>\n",
       "      <td>28.540001</td>\n",
       "      <td>27.740000</td>\n",
       "      <td>28.480000</td>\n",
       "      <td>1103900</td>\n",
       "      <td>28.480000</td>\n",
       "    </tr>\n",
       "    <tr>\n",
       "      <th>2015-12-30</th>\n",
       "      <td>28.580000</td>\n",
       "      <td>28.780001</td>\n",
       "      <td>28.170000</td>\n",
       "      <td>28.250000</td>\n",
       "      <td>1068000</td>\n",
       "      <td>28.250000</td>\n",
       "    </tr>\n",
       "    <tr>\n",
       "      <th>2015-12-31</th>\n",
       "      <td>28.100000</td>\n",
       "      <td>28.969999</td>\n",
       "      <td>28.020000</td>\n",
       "      <td>28.799999</td>\n",
       "      <td>1301500</td>\n",
       "      <td>28.799999</td>\n",
       "    </tr>\n",
       "  </tbody>\n",
       "</table>\n",
       "<p>252 rows × 6 columns</p>\n",
       "</div>"
      ],
      "text/plain": [
       "                 Open       High        Low      Close    Volume  Adj Close\n",
       "Date                                                                       \n",
       "2015-01-02  55.459999  55.599998  54.240002  55.150002   1664500  55.150002\n",
       "2015-01-05  54.540001  54.950001  52.330002  52.529999   2023000  52.529999\n",
       "2015-01-06  52.549999  53.930000  50.750000  52.439999   3762800  52.439999\n",
       "2015-01-07  53.320000  53.750000  51.759998  52.209999   1548200  52.209999\n",
       "2015-01-08  52.590000  54.139999  51.759998  53.830002   2015300  53.830002\n",
       "2015-01-09  55.959999  56.990002  54.720001  56.070000   6222600  56.070000\n",
       "2015-01-12  56.000000  56.060001  53.430000  54.020000   2405100  54.020000\n",
       "2015-01-13  54.470001  54.799999  52.520000  53.180000   1952100  53.180000\n",
       "2015-01-14  52.799999  53.680000  51.459999  52.200001   1854600  52.200001\n",
       "2015-01-15  53.000000  53.610001  50.029999  50.119999   2640400  50.119999\n",
       "2015-01-16  50.180000  51.490002  50.029999  51.389999   2183300  51.389999\n",
       "2015-01-20  51.650002  51.779999  50.689999  51.410000   1227600  51.410000\n",
       "2015-01-21  51.200001  53.500000  51.200001  53.410000   3248100  53.410000\n",
       "2015-01-22  53.869999  55.279999  53.119999  54.799999   2295400  54.799999\n",
       "2015-01-23  54.660000  55.639999  54.299999  55.189999   1636400  55.189999\n",
       "2015-01-26  55.119999  55.790001  54.830002  55.410000   1450300  55.410000\n",
       "2015-01-27  56.060001  56.160000  54.570000  55.630001   2410400  55.630001\n",
       "2015-01-28  56.150002  56.150002  52.919998  53.000000   2013100  53.000000\n",
       "2015-01-29  52.849998  53.310001  51.410000  52.930000   1844100  52.930000\n",
       "2015-01-30  52.590000  53.419998  52.049999  52.470001   1875400  52.470001\n",
       "2015-02-02  52.939999  53.500000  51.209999  53.470001   2105500  53.470001\n",
       "2015-02-03  53.830002  55.930000  53.410000  55.779999   2885400  55.779999\n",
       "2015-02-04  55.529999  57.070000  55.250000  56.740002   2498600  56.740002\n",
       "2015-02-05  57.599998  57.700001  56.080002  57.470001   4657300  57.470001\n",
       "2015-02-06  47.700001  48.169998  44.860001  45.110001  25137400  45.110001\n",
       "2015-02-09  44.910000  45.040001  42.099998  42.169998  13079300  42.169998\n",
       "2015-02-10  43.830002  45.549999  43.310001  44.660000  11267700  44.660000\n",
       "2015-02-11  45.389999  46.430000  44.810001  46.180000   6359400  46.180000\n",
       "2015-02-12  46.450001  47.840000  45.950001  47.630001   4375000  47.630001\n",
       "2015-02-13  48.509998  49.049999  47.220001  47.529999   4713100  47.529999\n",
       "...               ...        ...        ...        ...       ...        ...\n",
       "2015-11-18  27.540001  28.830000  27.309999  28.230000   3091600  28.230000\n",
       "2015-11-19  28.190001  28.690001  27.910000  28.059999   1487500  28.059999\n",
       "2015-11-20  28.100000  31.250000  28.049999  31.209999   6697500  31.209999\n",
       "2015-11-23  30.580000  30.809999  29.150000  29.860001   4029900  29.860001\n",
       "2015-11-24  29.459999  30.629999  29.450001  30.010000   2584500  30.010000\n",
       "2015-11-25  29.790001  30.540001  29.709999  30.510000   1287100  30.510000\n",
       "2015-11-27  30.500000  30.600000  29.610001  30.180000   1058900  30.180000\n",
       "2015-11-30  30.110001  30.719999  29.770000  30.129999   2015600  30.129999\n",
       "2015-12-01  30.110001  30.459999  29.799999  30.309999   1886000  30.309999\n",
       "2015-12-02  30.299999  32.470001  30.290001  31.389999   4650300  31.389999\n",
       "2015-12-03  31.389999  32.240002  30.480000  30.629999   2698900  30.629999\n",
       "2015-12-04  30.530001  30.860001  29.320000  30.450001   2313800  30.450001\n",
       "2015-12-07  30.379999  30.639999  29.629999  30.040001   1362300  30.040001\n",
       "2015-12-08  29.809999  31.379999  29.500000  30.920000   1830200  30.920000\n",
       "2015-12-09  30.980000  31.139999  29.260000  30.000000   2238500  30.000000\n",
       "2015-12-10  30.110001  31.299999  29.990000  30.830000   1252900  30.830000\n",
       "2015-12-11  30.690001  30.750000  29.600000  29.650000   1415000  29.650000\n",
       "2015-12-14  29.600000  29.889999  28.850000  29.580000   2328600  29.580000\n",
       "2015-12-15  29.680000  30.000000  26.459999  26.870001   5759200  26.870001\n",
       "2015-12-16  26.889999  28.240000  26.260000  28.030001   2992100  28.030001\n",
       "2015-12-17  28.139999  28.320000  27.190001  27.420000   1483900  27.420000\n",
       "2015-12-18  27.309999  27.910000  26.900000  27.170000   1299800  27.170000\n",
       "2015-12-21  27.170000  27.360001  26.030001  26.250000   1947600  26.250000\n",
       "2015-12-22  26.250000  28.700001  26.150000  27.930000   2952700  27.930000\n",
       "2015-12-23  27.950001  28.420000  27.440001  28.150000   1001000  28.150000\n",
       "2015-12-24  28.270000  28.590000  27.900000  28.400000    587400  28.400000\n",
       "2015-12-28  28.120001  28.379999  27.770000  27.879999   1004500  27.879999\n",
       "2015-12-29  27.950001  28.540001  27.740000  28.480000   1103900  28.480000\n",
       "2015-12-30  28.580000  28.780001  28.170000  28.250000   1068000  28.250000\n",
       "2015-12-31  28.100000  28.969999  28.020000  28.799999   1301500  28.799999\n",
       "\n",
       "[252 rows x 6 columns]"
      ]
     },
     "execution_count": 14,
     "metadata": {},
     "output_type": "execute_result"
    }
   ],
   "source": [
    "yahoo_stocks"
   ]
  },
  {
   "cell_type": "markdown",
   "metadata": {},
   "source": [
    "More on pandas data frames: \n",
    "\n",
    "\n",
    "http://pandas.pydata.org/pandas-docs/dev/generated/pandas.DataFrame.html"
   ]
  },
  {
   "cell_type": "markdown",
   "metadata": {},
   "source": [
    "#### Reading data from a .csv file"
   ]
  },
  {
   "cell_type": "markdown",
   "metadata": {},
   "source": [
    "Some basic commands for reading and getting to know the characteristics of your data"
   ]
  },
  {
   "cell_type": "code",
   "execution_count": null,
   "metadata": {
    "collapsed": false,
    "scrolled": true
   },
   "outputs": [],
   "source": [
    "yahoo_stocks.to_csv('yahoo_data.csv')\n",
    "#print(open('yahoo_data.csv').read())\n",
    "df = pd.read_csv('yahoo_data.csv')#, index_col='Date', infer_datetime_format=True, parse_dates=True)\n",
    "#print df.head()\n",
    "#print df.info()\n",
    "#print df.index\n",
    "print df"
   ]
  },
  {
   "cell_type": "code",
   "execution_count": null,
   "metadata": {
    "collapsed": false
   },
   "outputs": [],
   "source": [
    "#The number of tuples in your data\n",
    "print len(df)"
   ]
  },
  {
   "cell_type": "markdown",
   "metadata": {},
   "source": [
    "## Playing with data columns"
   ]
  },
  {
   "cell_type": "code",
   "execution_count": null,
   "metadata": {
    "collapsed": false
   },
   "outputs": [],
   "source": [
    "#The columns/features of your data\n",
    "print df.columns"
   ]
  },
  {
   "cell_type": "code",
   "execution_count": null,
   "metadata": {
    "collapsed": false
   },
   "outputs": [],
   "source": [
    "#Selecting a single column from your data\n",
    "print df['Open']"
   ]
  },
  {
   "cell_type": "code",
   "execution_count": null,
   "metadata": {
    "collapsed": false
   },
   "outputs": [],
   "source": [
    "#Another way of selecting a single column from your data\n",
    "print df.Open"
   ]
  },
  {
   "cell_type": "code",
   "execution_count": null,
   "metadata": {
    "collapsed": false
   },
   "outputs": [],
   "source": [
    "print df.columns\n",
    "print (df[['Open','Close']]).info()\n",
    "#print df[['Open','Close']]"
   ]
  },
  {
   "cell_type": "code",
   "execution_count": null,
   "metadata": {
    "collapsed": false
   },
   "outputs": [],
   "source": [
    "print df.Date.head(10)\n",
    "print df.Date.tail(10)\n"
   ]
  },
  {
   "cell_type": "code",
   "execution_count": null,
   "metadata": {
    "collapsed": false
   },
   "outputs": [],
   "source": [
    "#alternative\n",
    "print df['Date'].head(10)\n",
    "print df['Date'].tail(10)"
   ]
  },
  {
   "cell_type": "markdown",
   "metadata": {},
   "source": [
    "#### Changing the column names"
   ]
  },
  {
   "cell_type": "code",
   "execution_count": null,
   "metadata": {
    "collapsed": false
   },
   "outputs": [],
   "source": [
    "new_column_names = [ x.lower().replace(' ','_') for x in df.columns]\n",
    "new_column_names\n",
    "df.columns = new_column_names\n",
    "print df.info()"
   ]
  },
  {
   "cell_type": "markdown",
   "metadata": {},
   "source": [
    "#### Now **all** columns can be accessed using the **dot** notation"
   ]
  },
  {
   "cell_type": "code",
   "execution_count": null,
   "metadata": {
    "collapsed": false
   },
   "outputs": [],
   "source": [
    "print df.adj_close"
   ]
  },
  {
   "cell_type": "code",
   "execution_count": null,
   "metadata": {
    "collapsed": false,
    "scrolled": false
   },
   "outputs": [],
   "source": [
    "print df.adj_close.head()"
   ]
  },
  {
   "cell_type": "markdown",
   "metadata": {},
   "source": [
    "#### We can now apply methods on different columns"
   ]
  },
  {
   "cell_type": "code",
   "execution_count": null,
   "metadata": {
    "collapsed": false
   },
   "outputs": [],
   "source": [
    "print df.mean()\n",
    "#df.std()\n",
    "#df.median()\n",
    "#df.open.mean()\n",
    "#df.high.mean()"
   ]
  },
  {
   "cell_type": "markdown",
   "metadata": {},
   "source": [
    "#### Plotting some columns"
   ]
  },
  {
   "cell_type": "code",
   "execution_count": null,
   "metadata": {
    "collapsed": false
   },
   "outputs": [],
   "source": [
    "df.adj_close.plot(label='adj')\n",
    "df.low.plot(label='close')\n",
    "#df.low.plot()\n",
    "plt.legend(loc=2)"
   ]
  },
  {
   "cell_type": "code",
   "execution_count": null,
   "metadata": {
    "collapsed": false
   },
   "outputs": [],
   "source": [
    "df.adj_close.hist()\n",
    "#df.volume.hist()"
   ]
  },
  {
   "cell_type": "markdown",
   "metadata": {},
   "source": [
    "## Bulk Operations"
   ]
  },
  {
   "cell_type": "markdown",
   "metadata": {},
   "source": [
    "Methods like **sum( )** and **std( )** work on entire columns. We can run our own functions across all values in a column (or row) using **apply( )**."
   ]
  },
  {
   "cell_type": "code",
   "execution_count": null,
   "metadata": {
    "collapsed": false
   },
   "outputs": [],
   "source": [
    "print df.date.head()"
   ]
  },
  {
   "cell_type": "markdown",
   "metadata": {},
   "source": [
    "The **values** property of the column returns a list of values for the column. Inspecting the first value reveals that these are strings with a particular format."
   ]
  },
  {
   "cell_type": "code",
   "execution_count": null,
   "metadata": {
    "collapsed": false
   },
   "outputs": [],
   "source": [
    "print df.date.values\n",
    "first_date = df.date.values[0]\n",
    "print first_date"
   ]
  },
  {
   "cell_type": "code",
   "execution_count": null,
   "metadata": {
    "collapsed": false
   },
   "outputs": [],
   "source": [
    "datetime.strptime(first_date, \"%Y-%m-%d\")"
   ]
  },
  {
   "cell_type": "code",
   "execution_count": null,
   "metadata": {
    "collapsed": false
   },
   "outputs": [],
   "source": [
    "df.date = df.date.apply(lambda d: datetime.strptime(d, \"%Y-%m-%d\"))\n",
    "print df.date.head()"
   ]
  },
  {
   "cell_type": "markdown",
   "metadata": {},
   "source": [
    "Each row in a DataFrame is associated with an index, which is a label that uniquely identifies a row.\n",
    "\n",
    "The row indices so far have been auto-generated by pandas, and are simply integers starting from 0. From now on we will use dates instead of integers for indices-- the benefits of this will show later. Overwriting the index is as easy as assigning to the index property of the DataFrame.\n"
   ]
  },
  {
   "cell_type": "code",
   "execution_count": null,
   "metadata": {
    "collapsed": false
   },
   "outputs": [],
   "source": [
    "df.index = df.date\n",
    "print df.info()"
   ]
  },
  {
   "cell_type": "markdown",
   "metadata": {},
   "source": [
    "#### Accessing rows of the DataFrame using index values"
   ]
  },
  {
   "cell_type": "code",
   "execution_count": null,
   "metadata": {
    "collapsed": false
   },
   "outputs": [],
   "source": [
    "df.ix[datetime(2015,1,23,0,0)]"
   ]
  },
  {
   "cell_type": "markdown",
   "metadata": {},
   "source": [
    "#### Accessing individual rows using iloc[ ]"
   ]
  },
  {
   "cell_type": "code",
   "execution_count": null,
   "metadata": {
    "collapsed": false
   },
   "outputs": [],
   "source": [
    "df.iloc[0,:]"
   ]
  },
  {
   "cell_type": "markdown",
   "metadata": {},
   "source": [
    "#### Iterating over the rows using **iterrows( )**"
   ]
  },
  {
   "cell_type": "code",
   "execution_count": null,
   "metadata": {
    "collapsed": false
   },
   "outputs": [],
   "source": [
    "num_positive_days = 0\n",
    "for idx, row in df.iterrows():\n",
    "    if row.close > row.open:\n",
    "        num_positive_days += 1\n",
    "        \n",
    "print \"The total number of positive-gain days : \" + str(num_positive_days)"
   ]
  },
  {
   "cell_type": "markdown",
   "metadata": {},
   "source": [
    "#### Droping a column"
   ]
  },
  {
   "cell_type": "markdown",
   "metadata": {},
   "source": [
    "Now that we have made an index based on date, we can drop the actual ``date\" column"
   ]
  },
  {
   "cell_type": "code",
   "execution_count": null,
   "metadata": {
    "collapsed": false
   },
   "outputs": [],
   "source": [
    "df = df.drop(['date'],axis=1)\n",
    "print df.info()\n",
    "print df.columns"
   ]
  },
  {
   "cell_type": "markdown",
   "metadata": {},
   "source": [
    "## Filtering"
   ]
  },
  {
   "cell_type": "markdown",
   "metadata": {},
   "source": [
    "Selecting interesting rows from the data.  All operations below return a DataFrame, which can be treated the same way as all DataFrames we have seen so far."
   ]
  },
  {
   "cell_type": "code",
   "execution_count": null,
   "metadata": {
    "collapsed": false
   },
   "outputs": [],
   "source": [
    "positive_days = df[df.close > df.open]\n",
    "print positive_days.head()\n",
    "print len(positive_days)"
   ]
  },
  {
   "cell_type": "code",
   "execution_count": null,
   "metadata": {
    "collapsed": false
   },
   "outputs": [],
   "source": [
    "very_positive_days = df[df.close-df.open > 4]\n",
    "print len(very_positive_days)\n",
    "#print very_positive_days.head()"
   ]
  },
  {
   "cell_type": "code",
   "execution_count": null,
   "metadata": {
    "collapsed": false
   },
   "outputs": [],
   "source": [
    "tmp_high = df.high > 60\n",
    "print type(tmp_high)"
   ]
  },
  {
   "cell_type": "code",
   "execution_count": null,
   "metadata": {
    "collapsed": false
   },
   "outputs": [],
   "source": [
    "print tmp_high.head()\n",
    "print len(tmp_high)"
   ]
  },
  {
   "cell_type": "markdown",
   "metadata": {},
   "source": [
    "Select only the rows of **df** that correspond to **tmp_high**"
   ]
  },
  {
   "cell_type": "code",
   "execution_count": null,
   "metadata": {
    "collapsed": false
   },
   "outputs": [],
   "source": [
    "print df[tmp_high]"
   ]
  },
  {
   "cell_type": "markdown",
   "metadata": {},
   "source": [
    "## Creating new columns"
   ]
  },
  {
   "cell_type": "code",
   "execution_count": null,
   "metadata": {
    "collapsed": false
   },
   "outputs": [],
   "source": [
    "df['profit'] = (df.open < df.close)\n",
    "print df.head()"
   ]
  },
  {
   "cell_type": "code",
   "execution_count": null,
   "metadata": {
    "collapsed": false
   },
   "outputs": [],
   "source": [
    "for idx, row in df.iterrows():\n",
    "    if row.close > row.open:\n",
    "        df.ix[idx,'gain']='negative'\n",
    "    elif (row.open - row.close) < 1:\n",
    "        df.ix[idx,'gain']='small_gain'\n",
    "    elif (row.open - row.close) < 6:\n",
    "        df.ix[idx,'gain']='medium_gain'\n",
    "    else:\n",
    "        df.ix[idx,'gain']='large_gain'\n",
    "print df.head()"
   ]
  },
  {
   "cell_type": "markdown",
   "metadata": {},
   "source": [
    "#### Alternatively"
   ]
  },
  {
   "cell_type": "code",
   "execution_count": null,
   "metadata": {
    "collapsed": false
   },
   "outputs": [],
   "source": [
    "def namerow(row):\n",
    "    if row.close > row.open:\n",
    "        return 'negative'\n",
    "    elif (row.open - row.close) < 1:\n",
    "        return 'small_gain'\n",
    "    elif (row.open - row.close) < 6:\n",
    "        return 'medium_gain'\n",
    "    else:\n",
    "        return 'large_gain'\n",
    "\n",
    "df['test_column'] = df.apply(namerow, axis = 1)\n"
   ]
  },
  {
   "cell_type": "code",
   "execution_count": null,
   "metadata": {
    "collapsed": false
   },
   "outputs": [],
   "source": [
    "print df.head()"
   ]
  },
  {
   "cell_type": "code",
   "execution_count": null,
   "metadata": {
    "collapsed": false
   },
   "outputs": [],
   "source": [
    "df.drop('test_column', axis = 1)"
   ]
  },
  {
   "cell_type": "markdown",
   "metadata": {},
   "source": [
    "## Grouping"
   ]
  },
  {
   "cell_type": "markdown",
   "metadata": {},
   "source": [
    "Besides **apply()**, another great DataFrame function is **groupby()**. It will group a DataFrame by one or more columns, and let you iterate through each group.\n",
    "\n",
    "Here we will show the average gain among the three categories of negative, small, medium and large gains we defined above and stored in column ``gain\""
   ]
  },
  {
   "cell_type": "code",
   "execution_count": null,
   "metadata": {
    "collapsed": false
   },
   "outputs": [],
   "source": [
    "gains = {}\n",
    "for gain, gain_data in df.groupby(\"gain\"):\n",
    "    gains[gain] = gain_data.close.mean()\n",
    "gains"
   ]
  },
  {
   "cell_type": "markdown",
   "metadata": {},
   "source": [
    "## Comparing multiple stocks"
   ]
  },
  {
   "cell_type": "markdown",
   "metadata": {},
   "source": [
    "As a last task, we will use the experience we obtained so far -- and learn some new things -- in order to compare the performance of different stocks we obtained from Yahoo finance."
   ]
  },
  {
   "cell_type": "code",
   "execution_count": null,
   "metadata": {
    "collapsed": false
   },
   "outputs": [],
   "source": [
    "stocks = ['ORCL', 'TSLA', 'IBM','YELP', 'MSFT']\n",
    "attr = 'Close'\n",
    "df = pd.io.data.get_data_yahoo(stocks, \n",
    "                               start=datetime(2014, 1, 1), \n",
    "                               end=datetime(2014, 12, 31))[attr]\n",
    "print df.head()"
   ]
  },
  {
   "cell_type": "code",
   "execution_count": null,
   "metadata": {
    "collapsed": false
   },
   "outputs": [],
   "source": [
    "df.ORCL.plot(label = 'oracle')\n",
    "df.TSLA.plot(label = 'tesla')\n",
    "df.IBM.plot(label = 'ibm')\n",
    "df.MSFT.plot(label = 'msft')\n",
    "df.YELP.plot(label = 'yelp')\n",
    "plt.legend(loc=5)"
   ]
  },
  {
   "cell_type": "markdown",
   "metadata": {},
   "source": [
    "#### Calculating returns over a period of length T"
   ]
  },
  {
   "cell_type": "markdown",
   "metadata": {},
   "source": [
    "$$r(t) = \\frac{f(t)-f(t-T)}{f(t)} $$\n",
    "\n",
    "The returns can be computed in python with a simple function **pct_returns( ) **"
   ]
  },
  {
   "cell_type": "code",
   "execution_count": null,
   "metadata": {
    "collapsed": false
   },
   "outputs": [],
   "source": [
    "rets = df.pct_change(30)\n",
    "#print rets.head(20)"
   ]
  },
  {
   "cell_type": "markdown",
   "metadata": {},
   "source": [
    "Plotting again the timeseries of the returns of the different stocks"
   ]
  },
  {
   "cell_type": "code",
   "execution_count": null,
   "metadata": {
    "collapsed": false
   },
   "outputs": [],
   "source": [
    "rets.ORCL.plot(label = 'oracle')\n",
    "rets.TSLA.plot(label = 'tesla')\n",
    "rets.IBM.plot(label = 'ibm')\n",
    "rets.MSFT.plot(label = 'msft')\n",
    "rets.YELP.plot(label = 'yelp')\n",
    "plt.legend()"
   ]
  },
  {
   "cell_type": "code",
   "execution_count": null,
   "metadata": {
    "collapsed": false
   },
   "outputs": [],
   "source": [
    "plt.scatter(rets.TSLA, rets.ORCL)\n",
    "plt.xlabel('Returns TESLA')\n",
    "plt.ylabel('Returns ORCL')"
   ]
  },
  {
   "cell_type": "markdown",
   "metadata": {},
   "source": [
    "#### Correlations of columns"
   ]
  },
  {
   "cell_type": "markdown",
   "metadata": {},
   "source": [
    "The correlation coefficient between variables $X$ and $Y$ is defined as follows:\n",
    "$$\\text{Corr}(X,Y) = \\frac{E\\left[(X-\\mu_X)(Y-\\mu_Y)\\right]}{\\sigma_X\\sigma_Y}$$\n",
    "\n",
    "In python we can compute the correlation coefficient of all pairs of columns with **corr( )**"
   ]
  },
  {
   "cell_type": "code",
   "execution_count": null,
   "metadata": {
    "collapsed": false
   },
   "outputs": [],
   "source": [
    "corr = rets.corr()\n",
    "print corr"
   ]
  },
  {
   "cell_type": "markdown",
   "metadata": {},
   "source": [
    "#### Visualizing the correlation coefficient of all columns"
   ]
  },
  {
   "cell_type": "markdown",
   "metadata": {},
   "source": [
    "We will learn more about visualization later, but for now this is a simple example"
   ]
  },
  {
   "cell_type": "code",
   "execution_count": null,
   "metadata": {
    "collapsed": false
   },
   "outputs": [],
   "source": [
    "sns.heatmap(corr, annot=True)"
   ]
  },
  {
   "cell_type": "markdown",
   "metadata": {},
   "source": [
    "#### Returns vs risk (standard deviation)"
   ]
  },
  {
   "cell_type": "markdown",
   "metadata": {},
   "source": [
    "In many applications, we want to know both the returns as well as the standard deviation of the returns of a stock (i.e., its risk).  Below we visualize the result of such an analysis"
   ]
  },
  {
   "cell_type": "code",
   "execution_count": null,
   "metadata": {
    "collapsed": false
   },
   "outputs": [],
   "source": [
    "plt.scatter(rets.mean(), rets.std())\n",
    "plt.xlabel('Expected returns')\n",
    "plt.ylabel('Standard Deviation (Risk)')\n",
    "for label, x, y in zip(rets.columns, rets.mean(), rets.std()):\n",
    "    plt.annotate(\n",
    "        label, \n",
    "        xy = (x, y), xytext = (20, -20),\n",
    "        textcoords = 'offset points', ha = 'right', va = 'bottom',\n",
    "        bbox = dict(boxstyle = 'round,pad=0.5', fc = 'yellow', alpha = 0.5),\n",
    "        arrowprops = dict(arrowstyle = '->', connectionstyle = 'arc3,rad=0'))"
   ]
  },
  {
   "cell_type": "code",
   "execution_count": null,
   "metadata": {
    "collapsed": false
   },
   "outputs": [],
   "source": [
    "# Code for setting the style of the notebook\n",
    "from IPython.core.display import HTML\n",
    "def css_styling():\n",
    "    styles = open(\"../theme/custom.css\", \"r\").read()\n",
    "    return HTML(styles)\n",
    "css_styling()"
   ]
  },
  {
   "cell_type": "code",
   "execution_count": null,
   "metadata": {
    "collapsed": true
   },
   "outputs": [],
   "source": []
  }
 ],
 "metadata": {
  "celltoolbar": "Raw Cell Format",
  "kernelspec": {
   "display_name": "Python 3",
   "language": "python",
   "name": "python3"
  },
  "language_info": {
   "codemirror_mode": {
    "name": "ipython",
    "version": 3
   },
   "file_extension": ".py",
   "mimetype": "text/x-python",
   "name": "python",
   "nbconvert_exporter": "python",
   "pygments_lexer": "ipython3",
   "version": "3.5.2"
  }
 },
 "nbformat": 4,
 "nbformat_minor": 0
}
