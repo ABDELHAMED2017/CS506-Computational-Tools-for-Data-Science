{
 "cells": [
  {
   "cell_type": "markdown",
   "metadata": {
    "slideshow": {
     "slide_type": "slide"
    }
   },
   "source": [
    "## Probability and Statistics Refresher"
   ]
  },
  {
   "cell_type": "markdown",
   "metadata": {
    "slideshow": {
     "slide_type": "fragment"
    }
   },
   "source": [
    "Today we'll review the essentials of probability and statistics.  Given the prerequisites for this course, I assume that you learned all of this once.  What I want to do today is bring the material back into your mind fresh."
   ]
  },
  {
   "cell_type": "markdown",
   "metadata": {
    "slideshow": {
     "slide_type": "slide"
    }
   },
   "source": [
    "## Probability.\n",
    "\n",
    "What is probability?  "
   ]
  },
  {
   "cell_type": "markdown",
   "metadata": {
    "slideshow": {
     "slide_type": "fragment"
    }
   },
   "source": [
    "Historically, the notion of probability has actually been very slippery and hard to pin down exactly.   There are probably at least three ways to view probability in practice:\n",
    "\n",
    "1. as a mathematical exercise involving functions that integrate to 1 (i.e., distributions).\n",
    "2. as an encoding of natural rules for reasoning under uncertainty. \n",
    "3. as an idealization of properties of data and processes."
   ]
  },
  {
   "cell_type": "markdown",
   "metadata": {
    "slideshow": {
     "slide_type": "fragment"
    }
   },
   "source": [
    "For our purposes, we use probability as an abstraction that hides details we don't want to deal with.  This is a time-honored use of probability."
   ]
  },
  {
   "cell_type": "markdown",
   "metadata": {
    "slideshow": {
     "slide_type": "fragment"
    }
   },
   "source": [
    ">Any simple idea is approximate; as an illustration, consider an object ... what is an object? Philosophers are always \n",
    ">saying, “Well, just take a chair for example.” The moment they say that, you know that they do not know what they are \n",
    ">talking about any more. What is a chair? ... every object is a mixture of a lot of things, so we can deal with it \n",
    "> only as a series of approximations and idealizations.\n",
    "\n",
    ">The trick is the idealizations.\n",
    "\n",
    "Richard Feynman, _The Feynman Lectures on Physics, 12-2_"
   ]
  },
  {
   "cell_type": "markdown",
   "metadata": {
    "slideshow": {
     "slide_type": "fragment"
    }
   },
   "source": [
    "Here is an example of this principle applied to probability:"
   ]
  },
  {
   "cell_type": "markdown",
   "metadata": {
    "slideshow": {
     "slide_type": "-"
    }
   },
   "source": [
    ">In a serious work ... an expression such as “this phenomenon is due to chance” constitutes simply, \n",
    ">an elliptic form of speech. ... It really means “everything occurs as if this phenomenon were due to chance,” \n",
    ">or, to be more precise: “To describe, or interpret or formalize this phenomenon, \n",
    ">only probabilistic models have so far given good results.”\n",
    "\n",
    "Georges Matheron, _Estimating and Choosing: An Essay on Probability in Practice_"
   ]
  },
  {
   "cell_type": "markdown",
   "metadata": {},
   "source": [
    "Random variables: continuous and discrete.   PDF, CDF, hazard fn.  Long tails, short tails."
   ]
  },
  {
   "cell_type": "markdown",
   "metadata": {},
   "source": [
    "Variability.  Mean, Variance, Covariance."
   ]
  },
  {
   "cell_type": "markdown",
   "metadata": {},
   "source": [
    "Important Discrete RVs.   Geometric, Binomial, Poisson, Uniform."
   ]
  },
  {
   "cell_type": "markdown",
   "metadata": {},
   "source": [
    "Important Continuous RVs.  Exponential, Gaussian."
   ]
  },
  {
   "cell_type": "markdown",
   "metadata": {},
   "source": [
    "Look at CS 470 notes for best approach here."
   ]
  },
  {
   "cell_type": "markdown",
   "metadata": {},
   "source": [
    "Long tails, short tails."
   ]
  },
  {
   "cell_type": "markdown",
   "metadata": {},
   "source": [
    "Some examples of manipulating data to compute probabilities."
   ]
  },
  {
   "cell_type": "markdown",
   "metadata": {
    "slideshow": {
     "slide_type": "slide"
    }
   },
   "source": [
    "## Statistics"
   ]
  },
  {
   "cell_type": "markdown",
   "metadata": {},
   "source": [
    "Estimating the mean.  Distinguishing between models and data.  Explain about estimating the mean when the mean doesn't exist, as a way of distinguishing between models and data.\n"
   ]
  },
  {
   "cell_type": "markdown",
   "metadata": {
    "collapsed": true
   },
   "source": [
    "Bayes' Rule."
   ]
  }
 ],
 "metadata": {
  "celltoolbar": "Slideshow",
  "kernelspec": {
   "display_name": "Python [default]",
   "language": "python",
   "name": "python3"
  },
  "language_info": {
   "codemirror_mode": {
    "name": "ipython",
    "version": 3
   },
   "file_extension": ".py",
   "mimetype": "text/x-python",
   "name": "python",
   "nbconvert_exporter": "python",
   "pygments_lexer": "ipython3",
   "version": "3.5.2"
  }
 },
 "nbformat": 4,
 "nbformat_minor": 0
}
