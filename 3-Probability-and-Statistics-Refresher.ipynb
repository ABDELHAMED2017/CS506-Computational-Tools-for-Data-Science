{
 "cells": [
  {
   "cell_type": "markdown",
   "metadata": {
    "slideshow": {
     "slide_type": "slide"
    }
   },
   "source": [
    "## Probability and Statistics Refresher"
   ]
  },
  {
   "cell_type": "code",
   "execution_count": 28,
   "metadata": {
    "collapsed": false,
    "slideshow": {
     "slide_type": "skip"
    }
   },
   "outputs": [
    {
     "name": "stdout",
     "output_type": "stream",
     "text": [
      "\n"
     ]
    }
   ],
   "source": [
    "%matplotlib inline\n",
    "%config InlineBackend.figure_format='retina'\n",
    "# import libraries\n",
    "import numpy as np\n",
    "import matplotlib as mp\n",
    "import pandas as pd\n",
    "import matplotlib.pyplot as plt\n",
    "import pandas as pd\n",
    "import slideUtilities as sl\n",
    "from importlib import reload\n",
    "from datetime import datetime\n",
    "from IPython.display import Image\n",
    "from IPython.display import display_html\n",
    "from IPython.display import display\n",
    "from IPython.display import Math\n",
    "from IPython.display import Latex\n",
    "from IPython.display import HTML\n",
    "print('')"
   ]
  },
  {
   "cell_type": "code",
   "execution_count": 29,
   "metadata": {
    "collapsed": false,
    "slideshow": {
     "slide_type": "skip"
    }
   },
   "outputs": [
    {
     "data": {
      "text/html": [
       "<style>\n",
       " .container.slides .celltoolbar, .container.slides .hide-in-slideshow {\n",
       "    display: None ! important;\n",
       "}\n",
       "</style>"
      ],
      "text/plain": [
       "<IPython.core.display.HTML object>"
      ]
     },
     "metadata": {},
     "output_type": "display_data"
    }
   ],
   "source": [
    "%%html\n",
    "<style>\n",
    " .container.slides .celltoolbar, .container.slides .hide-in-slideshow {\n",
    "    display: None ! important;\n",
    "}\n",
    "</style>"
   ]
  },
  {
   "cell_type": "markdown",
   "metadata": {
    "slideshow": {
     "slide_type": "fragment"
    }
   },
   "source": [
    "Today we'll review the essentials of probability and statistics.  Given the prerequisites for this course, I assume that you learned all of this once.  What I want to do today is bring the material back into your mind fresh."
   ]
  },
  {
   "cell_type": "markdown",
   "metadata": {
    "slideshow": {
     "slide_type": "slide"
    }
   },
   "source": [
    "## Probability\n",
    "\n",
    "What is probability?  "
   ]
  },
  {
   "cell_type": "markdown",
   "metadata": {
    "slideshow": {
     "slide_type": "fragment"
    }
   },
   "source": [
    "Historically, the notion of probability has actually been very slippery and hard to pin down exactly.   There are probably at least three ways to view probability in practice:\n",
    "\n",
    "1. as a mathematical exercise involving positive functions that integrate to 1 (i.e., distributions).\n",
    "2. as an encoding of natural rules for reasoning under uncertainty. \n",
    "3. as an idealization of properties of data and processes."
   ]
  },
  {
   "cell_type": "markdown",
   "metadata": {
    "slideshow": {
     "slide_type": "fragment"
    }
   },
   "source": [
    "For our purposes, we use probability as an abstraction that hides details we don't want to deal with.  This is a time-honored use of probability."
   ]
  },
  {
   "cell_type": "markdown",
   "metadata": {
    "slideshow": {
     "slide_type": "fragment"
    }
   },
   "source": [
    ">Any simple idea is approximate; as an illustration, consider an object ... what is an object? Philosophers are always \n",
    ">saying, “Well, just take a chair for example.” The moment they say that, you know that they do not know what they are \n",
    ">talking about any more. What is a chair? ... every object is a mixture of a lot of things, so we can deal with it \n",
    "> only as a series of approximations and idealizations.\n",
    "\n",
    ">The trick is the idealizations.\n",
    "\n",
    "Richard Feynman, _The Feynman Lectures on Physics, 12-2_"
   ]
  },
  {
   "cell_type": "markdown",
   "metadata": {
    "slideshow": {
     "slide_type": "fragment"
    }
   },
   "source": [
    "Here is an illustration of this principle applied to probability:"
   ]
  },
  {
   "cell_type": "markdown",
   "metadata": {
    "slideshow": {
     "slide_type": "-"
    }
   },
   "source": [
    ">In a serious work ... an expression such as “this phenomenon is due to chance” constitutes simply, \n",
    ">an elliptic form of speech. ... It really means “everything occurs as if this phenomenon were due to chance,” \n",
    ">or, to be more precise: “To describe, or interpret or formalize this phenomenon, \n",
    ">only probabilistic models have so far given good results.”\n",
    "\n",
    "Georges Matheron, _Estimating and Choosing: An Essay on Probability in Practice_"
   ]
  },
  {
   "cell_type": "markdown",
   "metadata": {
    "slideshow": {
     "slide_type": "slide"
    }
   },
   "source": [
    "### Probability and Conditioning"
   ]
  },
  {
   "cell_type": "markdown",
   "metadata": {
    "slideshow": {
     "slide_type": "fragment"
    }
   },
   "source": [
    "__Definition.__  Consider a set $\\Omega$, referred to as the\n",
    "_sample space._  A _probability\n",
    "  measure_ on $\\Omega$ is a function $P[\\cdot]$ defined on all the subsets of $\\Omega$ (the\n",
    "  _events_) such that:\n",
    "1. $P[\\Omega] = 1$\n",
    "2. For any event $A \\subset \\Omega$, $P[A] \\geq 0.$\n",
    "3. For any events $A, B \\subset \\Omega$ where $A \\cap B =\n",
    "    \\emptyset$, $P[A \\cup B] = P[A] + P[B]$.\n",
    "\n"
   ]
  },
  {
   "cell_type": "markdown",
   "metadata": {
    "slideshow": {
     "slide_type": "fragment"
    }
   },
   "source": [
    "Often we want to ask how a probability measure changes if we restrict the sample space to be some subset of $\\Omega$.  \n",
    "\n",
    "This is called __conditioning.__"
   ]
  },
  {
   "cell_type": "markdown",
   "metadata": {
    "slideshow": {
     "slide_type": "fragment"
    }
   },
   "source": [
    "__Definition.__ The _conditional probability_ of an event $A$ given that\n",
    "event $B$ (having positive probability) is known to occur, is \n",
    "\n",
    "$$ P[A|B] = \\frac{P[A \\cap B]}{P[B]}  \\mbox{ where } P[B] > 0 $$"
   ]
  },
  {
   "cell_type": "markdown",
   "metadata": {
    "slideshow": {
     "slide_type": "fragment"
    }
   },
   "source": [
    "The function $P[\\cdot|B]$ is a probability measure over the sample space\n",
    "$B$.  \n",
    "\n",
    "Note that in the expression $P[A|B]$, $A$ is random but $B$ is fixed. \n",
    "\n",
    "Now if $B$ is a proper subset of $\\Omega,$ then $P[B] < 1$.   So $P[\\cdot|B]$ is a rescaling of the quantity $P[A\\cap B]$ so that $P[B|B] = 1.$ "
   ]
  },
  {
   "cell_type": "markdown",
   "metadata": {
    "slideshow": {
     "slide_type": "fragment"
    }
   },
   "source": [
    "The sample space $\\Omega$ may be continuous or discrete, and bounded or unbounded."
   ]
  },
  {
   "cell_type": "markdown",
   "metadata": {
    "slideshow": {
     "slide_type": "slide"
    }
   },
   "source": [
    "## Random Variables"
   ]
  },
  {
   "cell_type": "markdown",
   "metadata": {
    "slideshow": {
     "slide_type": "fragment"
    }
   },
   "source": [
    "We are usually interested in numeric values associated with events.  \n",
    "\n",
    "When a random event has a numeric value we refer to it as a random variable.\n",
    "\n",
    "Notationally, we use CAPITAL LETTERS for random variables and lowercase for non-random quantities."
   ]
  },
  {
   "cell_type": "markdown",
   "metadata": {
    "slideshow": {
     "slide_type": "subslide"
    }
   },
   "source": [
    "To collect information about what values of the random variable are more probable than others, we have some more definitions."
   ]
  },
  {
   "cell_type": "markdown",
   "metadata": {
    "slideshow": {
     "slide_type": "fragment"
    }
   },
   "source": [
    "__Definition.__ The cumulative distribution function (CDF) F for a random\n",
    " variable $X$ is equal to the probability measure for the event that\n",
    " consists of all possible outcomes with a value of the random variable $X$\n",
    " less than or equal to $x$, that is, $F(x) = P[X \\leq x].$"
   ]
  },
  {
   "cell_type": "markdown",
   "metadata": {
    "slideshow": {
     "slide_type": "fragment"
    }
   },
   "source": [
    "__Example.__  Consider the roll of a single die.  The random variable here is the number of points showing.  What is the CDF?"
   ]
  },
  {
   "cell_type": "code",
   "execution_count": 41,
   "metadata": {
    "collapsed": false,
    "slideshow": {
     "slide_type": "fragment"
    }
   },
   "outputs": [
    {
     "data": {
      "text/html": [
       "<div id=\"4c6fba89de426800\"></div>\n",
       "    <script type=\"text/javascript\">\n",
       "        $(function(){\n",
       "            var p = $(\"#4c6fba89de426800\");\n",
       "            if (p.length==0) return;\n",
       "\n",
       "            while (!p.hasClass(\"cell\")) {\n",
       "                p=p.parent();\n",
       "\n",
       "                if (p.prop(\"tagName\") ==\"body\") return;\n",
       "            }\n",
       "            var cell = p;\n",
       "            cell.find(\".input\").addClass(\"hide-in-slideshow\")\n",
       "        });\n",
       "    </script>"
      ]
     },
     "metadata": {},
     "output_type": "display_data"
    },
    {
     "name": "stdout",
     "output_type": "stream",
     "text": [
      "\n"
     ]
    },
    {
     "data": {
      "image/png": "[encoded data removed]",
      "text/plain": [
       "<matplotlib.figure.Figure at 0x11b95bfd0>"
      ]
     },
     "metadata": {
      "image/png": {
       "height": 270,
       "width": 393
      }
     },
     "output_type": "display_data"
    }
   ],
   "source": [
    "sl.hide_code_in_slideshow()\n",
    "plt.figure()\n",
    "for i in range(7):\n",
    "    plt.plot(i,i/6.,'ob')\n",
    "    plt.plot([i,i+1],[i/6.,i/6.],'-b')\n",
    "plt.xlim([-0.5,7])\n",
    "plt.ylim([-0.05,1.1])\n",
    "plt.xlabel('Number of points showing',size=14)\n",
    "plt.ylabel(r'$P[X\\leq x]$',size=14)\n",
    "print('')"
   ]
  },
  {
   "cell_type": "markdown",
   "metadata": {
    "slideshow": {
     "slide_type": "fragment"
    }
   },
   "source": [
    "Now, consider this CDF of some random variable:"
   ]
  },
  {
   "cell_type": "code",
   "execution_count": 43,
   "metadata": {
    "collapsed": false,
    "slideshow": {
     "slide_type": "-"
    }
   },
   "outputs": [
    {
     "data": {
      "text/html": [
       "<div id=\"97c1fea3fa88889a\"></div>\n",
       "    <script type=\"text/javascript\">\n",
       "        $(function(){\n",
       "            var p = $(\"#97c1fea3fa88889a\");\n",
       "            if (p.length==0) return;\n",
       "\n",
       "            while (!p.hasClass(\"cell\")) {\n",
       "                p=p.parent();\n",
       "\n",
       "                if (p.prop(\"tagName\") ==\"body\") return;\n",
       "            }\n",
       "            var cell = p;\n",
       "            cell.find(\".input\").addClass(\"hide-in-slideshow\")\n",
       "        });\n",
       "    </script>"
      ]
     },
     "metadata": {},
     "output_type": "display_data"
    },
    {
     "name": "stdout",
     "output_type": "stream",
     "text": [
      "\n"
     ]
    },
    {
     "data": {
      "image/png": "[encoded data removed]",
      "text/plain": [
       "<matplotlib.figure.Figure at 0x11c316668>"
      ]
     },
     "metadata": {
      "image/png": {
       "height": 274,
       "width": 393
      }
     },
     "output_type": "display_data"
    }
   ],
   "source": [
    "sl.hide_code_in_slideshow()\n",
    "from scipy.stats import norm\n",
    "plt.figure()\n",
    "x = np.linspace(norm.ppf(0.001), norm.ppf(0.999), 100)\n",
    "plt.plot(x, norm.cdf(x),'b-')\n",
    "plt.xlabel('x',size=14)\n",
    "plt.ylabel(r'$P[X\\leq x]$',size=14)\n",
    "print('')"
   ]
  },
  {
   "cell_type": "markdown",
   "metadata": {},
   "source": [
    "What does it mean when the slope is steeper for some $x$ values?\n",
    "\n",
    "The slope tells us how likely values are in a particular range."
   ]
  },
  {
   "cell_type": "markdown",
   "metadata": {},
   "source": [
    "This is important enough that we define a function to capture it.  \n",
    "\n",
    "__Definition.__ The _probability density function_ (pdf) is the derivative of the CDF, when that is defined.\n",
    "\n",
    "$$ f(x) = \\frac{dF(x)}{dx}.$$"
   ]
  },
  {
   "cell_type": "markdown",
   "metadata": {},
   "source": [
    "Often we will go the other way as well:\n",
    "\n",
    "$$ F(x) = \\int_{-\\infty}^{x} f(t)\\; dt $$"
   ]
  },
  {
   "cell_type": "markdown",
   "metadata": {},
   "source": [
    "You should be able to see that:\n",
    "\n",
    "$$ \\int_{-\\infty}^{+\\infty} f(x)\\; dx = 1 $$\n",
    "\n",
    "and\n",
    "\n",
    "$$      f(x) \\geq 0 $$"
   ]
  },
  {
   "cell_type": "markdown",
   "metadata": {
    "slideshow": {
     "slide_type": "fragment"
    }
   },
   "source": [
    "Now, for a discrete random variable, the CDF is not differentiable (because the CDF is a step function).  \n",
    "\n",
    "For the PDF of discrete RVs, we simply plot the probability function of\n",
    "each value.  That is, we plot $P[X = x]$ for the various values of $x$.\n",
    "\n",
    "Another way to think of the PDF is that it consists of impulses at the\n",
    "points of discontinuity of the CDF. "
   ]
  },
  {
   "cell_type": "markdown",
   "metadata": {
    "slideshow": {
     "slide_type": "fragment"
    }
   },
   "source": [
    "For our example of the single die:"
   ]
  },
  {
   "cell_type": "code",
   "execution_count": 49,
   "metadata": {
    "collapsed": false,
    "slideshow": {
     "slide_type": "-"
    }
   },
   "outputs": [
    {
     "data": {
      "text/html": [
       "<div id=\"bbb9abb76ef9ccad\"></div>\n",
       "    <script type=\"text/javascript\">\n",
       "        $(function(){\n",
       "            var p = $(\"#bbb9abb76ef9ccad\");\n",
       "            if (p.length==0) return;\n",
       "\n",
       "            while (!p.hasClass(\"cell\")) {\n",
       "                p=p.parent();\n",
       "\n",
       "                if (p.prop(\"tagName\") ==\"body\") return;\n",
       "            }\n",
       "            var cell = p;\n",
       "            cell.find(\".input\").addClass(\"hide-in-slideshow\")\n",
       "        });\n",
       "    </script>"
      ]
     },
     "metadata": {},
     "output_type": "display_data"
    },
    {
     "name": "stdout",
     "output_type": "stream",
     "text": [
      "\n"
     ]
    },
    {
     "data": {
      "image/png": "[encoded data removed]",
      "text/plain": [
       "<matplotlib.figure.Figure at 0x11856ca90>"
      ]
     },
     "metadata": {
      "image/png": {
       "height": 270,
       "width": 390
      }
     },
     "output_type": "display_data"
    }
   ],
   "source": [
    "sl.hide_code_in_slideshow()\n",
    "plt.figure()\n",
    "for i in range(7):\n",
    "    plt.plot([i,i],[0,1/6.],'-b',lw=4)\n",
    "plt.xlim([-0.5,6.5])\n",
    "plt.ylim([0,1.1])\n",
    "plt.xlabel('Number of points showing',size=14)\n",
    "plt.ylabel(r'$P[X = x]$',size=14)\n",
    "print('')"
   ]
  },
  {
   "cell_type": "markdown",
   "metadata": {
    "slideshow": {
     "slide_type": "slide"
    }
   },
   "source": [
    "## Characterizing Random Variables"
   ]
  },
  {
   "cell_type": "markdown",
   "metadata": {
    "slideshow": {
     "slide_type": "fragment"
    }
   },
   "source": [
    "__Definition.__ The _expected value_ $E[X]$ of a random\n",
    "variable $X$ is the probability-weighted sum or integral of all possible values of\n",
    "the R.V.  \n",
    "\n",
    "For a discrete random variable, this is:\n",
    "\n",
    "$$ E[K] \\equiv \\sum_{-\\infty}^{+\\infty} k\\; P[K=k] $$\n",
    "\n",
    "and for a continuous random variable with pdf $p():$\n",
    "\n",
    "$$ E[K] \\equiv \\int_{-\\infty}^{+\\infty} k\\; p(k)\\; dk $$"
   ]
  },
  {
   "cell_type": "markdown",
   "metadata": {
    "slideshow": {
     "slide_type": "fragment"
    }
   },
   "source": [
    "The expected value is also called the average or the mean, although we\n",
    "prefer to reserve those terms for empirical statistics (actual\n",
    "measurements, not idealizations like these formulas).\n",
    "\n",
    "The expected value is in some sense the \"center of mass\" of the random\n",
    "variable.   It is often denoted $\\mu$."
   ]
  },
  {
   "cell_type": "markdown",
   "metadata": {
    "slideshow": {
     "slide_type": "fragment"
    }
   },
   "source": [
    "The mean is usually a quite useful characterization of the random variable.\n",
    "\n",
    "However, be careful: in some cases, the mean may not be very informative, or important.  \n",
    "\n",
    "In some cases a\n",
    "random variable may not ever take on the mean as a possible value.  (Consider again the single die, whose mean is 3.5)\n",
    "\n",
    "In other cases the notion of average isn't useful, as for the person\n",
    "with their head in the oven and feet in the freezer who claims \"on\n",
    "average I feel fine.\" \n",
    "\n",
    "In other words, the mean may not be very informative when\n",
    "observations are highly variable.   "
   ]
  },
  {
   "cell_type": "markdown",
   "metadata": {
    "slideshow": {
     "slide_type": "fragment"
    }
   },
   "source": [
    "In fact, the variability of random quantities is crucially important to characterize.\n",
    "\n",
    "For this we use __variance,__ the mean squared difference of the random variable from its mean.\n",
    "\n",
    "__Definition.__ The variance of a random variable $X$ is\n",
    "\n",
    "$$ Var(X) \\equiv E[(X - E[X])^2]$$.\n",
    "\n",
    "For a discrete R.V. with $E[X] = \\mu$ this would be:\n",
    "$$ Var(X) = \\sum_{x=-\\infty}^{+\\infty} (x-\\mu)^2\\; P[X=x]. $$"
   ]
  },
  {
   "cell_type": "markdown",
   "metadata": {
    "slideshow": {
     "slide_type": "fragment"
    }
   },
   "source": [
    "The units of variance are the square of the units of the mean. \n",
    "\n",
    "To compare variance and mean, we take the square root of the variance.\n",
    "\n",
    "This is called the __standard deviation__ and is denoted $\\sigma$.\n",
    "So variance is denoted $\\sigma^2$."
   ]
  },
  {
   "cell_type": "markdown",
   "metadata": {
    "slideshow": {
     "slide_type": "fragment"
    }
   },
   "source": [
    "Next, let's recall the case of the Tesla and Yelp returns from the last lecture:"
   ]
  },
  {
   "cell_type": "code",
   "execution_count": 59,
   "metadata": {
    "collapsed": false
   },
   "outputs": [
    {
     "data": {
      "text/html": [
       "<div id=\"cca982d897d8b262\"></div>\n",
       "    <script type=\"text/javascript\">\n",
       "        $(function(){\n",
       "            var p = $(\"#cca982d897d8b262\");\n",
       "            if (p.length==0) return;\n",
       "\n",
       "            while (!p.hasClass(\"cell\")) {\n",
       "                p=p.parent();\n",
       "\n",
       "                if (p.prop(\"tagName\") ==\"body\") return;\n",
       "            }\n",
       "            var cell = p;\n",
       "            cell.find(\".input\").addClass(\"hide-in-slideshow\")\n",
       "        });\n",
       "    </script>"
      ]
     },
     "metadata": {},
     "output_type": "display_data"
    },
    {
     "data": {
      "text/plain": [
       "<matplotlib.legend.Legend at 0x118886a90>"
      ]
     },
     "execution_count": 59,
     "metadata": {},
     "output_type": "execute_result"
    },
    {
     "data": {
      "image/png": "[encoded data removed]",
      "text/plain": [
       "<matplotlib.figure.Figure at 0x118886780>"
      ]
     },
     "metadata": {
      "image/png": {
       "height": 272,
       "width": 377
      }
     },
     "output_type": "display_data"
    }
   ],
   "source": [
    "sl.hide_code_in_slideshow()\n",
    "import pandas as pd\n",
    "import pandas_datareader.data as web\n",
    "\n",
    "stocks = ['TSLA', 'YELP']\n",
    "attr = 'Close'\n",
    "df = web.DataReader(stocks, \n",
    "                    data_source,                               \n",
    "                    start=datetime(2014, 1, 1), \n",
    "                    end=datetime(2014, 12, 31))[attr]\n",
    "rets = df.pct_change(30)\n",
    "rets.TSLA.plot(label = 'tesla')\n",
    "rets.YELP.plot(label = 'yelp')\n",
    "plt.legend(loc='best')"
   ]
  },
  {
   "cell_type": "markdown",
   "metadata": {},
   "source": [
    "Treating these two timeseries as random variables, we are interested in how the vary __together__.\n",
    "\n",
    "This is capture by the concept of __covariance.__\n",
    "\n",
    "__Definition.__ For two random variables $X$ and $Y$, their _covariance_ is defined as:\n",
    "\n",
    "$$\\text{Cov}(X,Y) = E\\left[(X-\\mu_X)(Y-\\mu_Y)\\right]$$\n",
    "\n",
    "Basically, covariance is large when $X$ and $Y$ tend to be both above their means together, and both below their means together."
   ]
  },
  {
   "cell_type": "code",
   "execution_count": null,
   "metadata": {
    "collapsed": true
   },
   "outputs": [],
   "source": []
  },
  {
   "cell_type": "markdown",
   "metadata": {},
   "source": [
    "\\subsection{Law of total probability.}\n",
    "\n",
    "Let $A_1, A_2, ..., A_n$ be events such that\n",
    "\n",
    "\\begin{enumerate}\n",
    "\\item $A_i \\cap A_j = \\emptyset$ if $i \\neq j$\n",
    "\\item $P[A_i] > 0, i = 1, 2, ..., n.$\n",
    "\\item $A_1 \\cup A_2 \\cup ... \\cup A_n = \\Omega$\n",
    "\\end{enumerate}\n",
    "\n",
    "(Such a family of events is called a {\\em  partition\\/} of $\\Omega$.)\n",
    "\n",
    "Then for any event A,\n",
    "\n",
    "\\[ P[A] = P[A_1]\\,P[A|A_1] + P[A_2]\\,P[A|A_2] + ... + P[A_n]\\,P[A|A_n] \\]\n",
    "\n",
    "\\subsection{Law of total expectation.}\n",
    "\n",
    "Conditional expectation is defined as follows:\n",
    "\n",
    "\\[ E[X|Y = y_j] = \\sum_{x_i} x_i \\, P[X = x_i | Y = y_j] \\]\n",
    "\n",
    "(Note that this definition follows directly from the definition of\n",
    "expectation we have already seen.)  The the law of total expectation\n",
    "states:  \n",
    "\n",
    "\\[ E[X] = \\sum_{y_i} E[X | Y = y_i] \\, P[Y=y_i]\\]\n",
    "\n",
    "Note that the set ${y_i}$ forms a partition over the possible values of\n",
    "$Y$. \n"
   ]
  },
  {
   "cell_type": "markdown",
   "metadata": {},
   "source": [
    "\n",
    "\\subsection{Bayes' Rule.}\n",
    "\n",
    "Suppose that $A_1, A_2, ..., A_n$ form a partition of $\\Omega$.  Then\n",
    "for any event $B$ with $P[B] > 0$,\n",
    "\n",
    "\\[ P[A_i|B] = \\frac{P[B|A_i]\\,P[A_i]}{P[A_1]\\,P[B|A_1] + P[A_2]\\,P[B|A_2] +\n",
    "  ... + P[A_n]\\,P[B|A_n]} \\]\n",
    "\n",
    "You should be able to see how to derive this; steps are 1) expand into a\n",
    "fraction using the\n",
    "definition of conditional probability; 2) denominator then\n",
    "follows from law of total probability;  3) numerator is based on\n",
    "rewriting $P[A_i \\& B]$ using definition of conditional probability\n",
    "again. \n",
    "\n",
    "Note how we are updating our estimate of the probability of each $A_i$\n",
    "based on the new information, namely, that $B$ is true.   This update\n",
    "transforms the {\\em prior\\/} probabilities $P[A_i]$ into the {\\em\n",
    "  posterior\\/} probabilities $P[A_i|B]$.\n",
    "\n",
    "This is useful because often the probabilities $P[B|A_i]$ can be\n",
    "estimated. \n",
    "\n",
    "\\boxit{\n",
    "{\\bf Example.}  Empirical evidence suggests that amongs sets of twins,\n",
    "about 1/3 are identical.  Assume therefore that probability of a pair of\n",
    "twins being identical to be 1/3.  Now, consider how a couple might\n",
    "update this probability after they get an ultrasound that shows that the\n",
    "twins are of the same gender.   What is their new estimate of the\n",
    "probability that their twins are identical?\n",
    "\n",
    "Let $I$ be the event that the twins are identical.  Let $G$ be the event\n",
    "that gender is the same via ultrasound.  The prior probabilities here\n",
    "are $P[I]$ and $P[\\bar{I}]$.  What we want to calculate are the\n",
    "posterior probabilities $P[I|G]$ and $P[\\bar{I}|G].$\n",
    "\n",
    "First, we note:\n",
    "\\[ P[G|I] = 1 \\]\n",
    "\n",
    "(Surprisingly, people are sometimes confused about that fact!)   Also,\n",
    "we assume that if the twins are not identical, they are like any two\n",
    "siblings, {\\em i.e.,\\/} their probability of being same gender is 1/2: \n",
    "\n",
    "\\[ P[G|\\bar{I}] = 1/2 \\]\n",
    "\n",
    "And we know from observing the population at large that among all sets\n",
    "of twins, about 1/3 are identical:\n",
    "\n",
    "\\[ P[I] = 1/3 \\]\n",
    "\n",
    "Then:\n",
    "\n",
    "\\[ P[I|G] = \\frac{P[G|I] P[I]}{P[G|I]\\,P[I] + P[G|\\bar{I}]\\,P[\\bar{I}]}\n",
    "= \\frac{1 \\cdot 1/3}{(1 \\cdot 1/3) + (1/2 \\cdot 2/3)} = \\frac{1}{2}\\]\n",
    "\n",
    "So we have updated our estimate of the twins being identical from 1/3\n",
    "(prior probability) to 1/2 (posterior probability).\n",
    "}\n",
    "\n",
    "Note how easy it was to determine $P[G|I]$ and $P[G|\\bar{I}]$, while the\n",
    "other case $P[I|G]$ was not so obvious -- hence the utility of Bayes' rule.\n",
    "\n"
   ]
  },
  {
   "cell_type": "markdown",
   "metadata": {},
   "source": [
    "## Low and High Variability"
   ]
  },
  {
   "cell_type": "markdown",
   "metadata": {},
   "source": [
    "Historically, most sources of random variation that have concerned\n",
    "statisticians are instances of low variability.  \n",
    "\n",
    "The original roots of\n",
    "probability in the study of games of chance, and later in the study of\n",
    "biology and medicine, have mainly studied objects with low variability.\n",
    "\n",
    "Some examples of random variation in this category are: \n",
    "* the heights of adult humans\n",
    "* the number of trees per unit area in a mature forest\n",
    "* the sum of 10 rolls of a die\n",
    "* the time between emission of subatomic particles from a radioactive material.\n",
    "\n",
    "In each of these cases, there are a range of values that are\n",
    " \"typical,\" and there is a clear threshold above what is typical, that essentially never occurs."
   ]
  },
  {
   "cell_type": "markdown",
   "metadata": {},
   "source": [
    "On the other hand, there are some situations in which variability is\n",
    "quite different.  \n",
    "\n",
    "In these cases, there is no real \"typical\" range of\n",
    "values, and arbitrarily large values can occur with non-negligible\n",
    "frequency.   \n",
    "\n",
    "Some examples in this category are\n",
    "* the distribution of wealth among individuals in society\n",
    "* the sizes of human settlements\n",
    "* the areas burnt in forest fires\n",
    "* the runs of gains and losses in various financial markets over time\n",
    "* and the number of collaborators a scholar has over her lifetime.   "
   ]
  },
  {
   "cell_type": "markdown",
   "metadata": {},
   "source": [
    "> The banking system (betting against rare events) just lost [more than] 1\n",
    "> Trillion dollars (so far) on a single error, more than was ever earned\n",
    "> in the history of banking.\n",
    "\n",
    "Nassim Nicholas Taleb, September 2008 \n",
    "\n",
    "\n",
    "\n"
   ]
  },
  {
   "cell_type": "markdown",
   "metadata": {},
   "source": [
    "![](figs/derivatives-portfolio-variation.png)\n",
    "\n",
    "An example of a run of observations showing high variability.   This figure shows the daily\n",
    "variations in a derivatives portfolio over the timeframe 1988-2008.\n",
    "About 99% of the variation over the 20 years occurs in a single day\n",
    "(the day the European Monetary System collapsed).\n"
   ]
  },
  {
   "cell_type": "markdown",
   "metadata": {},
   "source": [
    "Important Discrete RVs.   Geometric, Binomial, Poisson, Uniform."
   ]
  },
  {
   "cell_type": "markdown",
   "metadata": {},
   "source": [
    "## Important Random Variables"
   ]
  },
  {
   "cell_type": "markdown",
   "metadata": {},
   "source": [
    "### Independent Trials"
   ]
  },
  {
   "cell_type": "markdown",
   "metadata": {},
   "source": [
    "Here is our canonical experiment: flipping a weighted coin.  \n",
    "\n",
    "The coin\n",
    "comes up \"heads\" (aka \"success\") with probability $p$.  \n",
    "\n",
    "We use the standard notation that the corresponding probability (\"tails\", \"failure\") is denoted $q$\n",
    "(i.e., $q = 1-p$).  \n",
    "\n",
    "These are called _Bernoulli trials_; one can think of each trial as a timestep so these are about _discrete\n",
    "  time_."
   ]
  },
  {
   "cell_type": "markdown",
   "metadata": {},
   "source": [
    "Now we will extend this notion to continuous time.\n",
    "\n",
    "Imagine that you \"speed up\" the coin flipping so that instead of flipping a coin once per second,\n",
    "you flip it $m$ times per second, and you simultaneously decrease the\n",
    "probability of success to $p/m$.   \n",
    "\n",
    "Then you expect the same number of\n",
    "successes per second (i.e., $p$), but successes can happen at finer time\n",
    "intervals.   "
   ]
  },
  {
   "cell_type": "markdown",
   "metadata": {},
   "source": [
    "Now imagine the limit as $m \\rightarrow \\infty$.  \n",
    "\n",
    "This is a\n",
    "mathematical abstraction in which \n",
    "* a success can happen at _any_ time instant\n",
    "* success at any time instant is equally likely\n",
    "* and success at any time instant is independent of any other time instant (it's still a coin with no memory).   "
   ]
  },
  {
   "cell_type": "markdown",
   "metadata": {},
   "source": [
    "Now we can think of successes happening at some _rate_ $\\lambda$ that is\n",
    "equal to $p$ per second.  \n",
    "\n",
    "Note that $\\lambda$ has units of inverse time, e.g., sec$^{-1}$. "
   ]
  },
  {
   "cell_type": "markdown",
   "metadata": {},
   "source": [
    "For each of these two cases (discrete and continuous time) there are two questions we can ask:\n",
    "\n",
    "1. Given that a success has just occured, how long until the next\n",
    "  success?\n",
    "2. In a fixed number of trials or amount of time, how many successes\n",
    "  occur?\n"
   ]
  },
  {
   "cell_type": "markdown",
   "metadata": {},
   "source": [
    "These four cases define four commonly-used random variables.\n",
    "\n",
    "\n",
    "\n",
    "\n",
    "| | Trials/Time Until Success | Number of Successes in Fixed Time  |\n",
    "|-|:--:|:--:|\n",
    "|Discrete Trials| Geometric| Binomial |\n",
    "|Continuous Rate| Exponential | Poisson|\n",
    "\n"
   ]
  },
  {
   "cell_type": "markdown",
   "metadata": {},
   "source": [
    "Important Continuous RVs.  Exponential, Gaussian."
   ]
  },
  {
   "cell_type": "markdown",
   "metadata": {},
   "source": [
    "Long tails, short tails."
   ]
  },
  {
   "cell_type": "markdown",
   "metadata": {},
   "source": [
    "Some examples of manipulating data to compute probabilities."
   ]
  },
  {
   "cell_type": "markdown",
   "metadata": {
    "slideshow": {
     "slide_type": "slide"
    }
   },
   "source": [
    "## Statistics"
   ]
  },
  {
   "cell_type": "markdown",
   "metadata": {},
   "source": [
    "Estimating the mean.  Distinguishing between models and data.  Explain about estimating the mean when the mean doesn't exist, as a way of distinguishing between models and data.\n"
   ]
  },
  {
   "cell_type": "markdown",
   "metadata": {
    "collapsed": true
   },
   "source": [
    "Bayes' Rule."
   ]
  }
 ],
 "metadata": {
  "anaconda-cloud": {},
  "celltoolbar": "Slideshow",
  "kernelspec": {
   "display_name": "Python [default]",
   "language": "python",
   "name": "python3"
  },
  "language_info": {
   "codemirror_mode": {
    "name": "ipython",
    "version": 3
   },
   "file_extension": ".py",
   "mimetype": "text/x-python",
   "name": "python",
   "nbconvert_exporter": "python",
   "pygments_lexer": "ipython3",
   "version": "3.5.2"
  }
 },
 "nbformat": 4,
 "nbformat_minor": 0
}
