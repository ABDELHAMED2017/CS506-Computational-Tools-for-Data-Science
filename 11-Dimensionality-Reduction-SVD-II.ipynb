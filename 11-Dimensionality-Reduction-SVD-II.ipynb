{
 "cells": [
  {
   "cell_type": "markdown",
   "metadata": {
    "slideshow": {
     "slide_type": "slide"
    }
   },
   "source": [
    "# Dimensionality Reduction - SVD II"
   ]
  },
  {
   "cell_type": "code",
   "execution_count": 119,
   "metadata": {
    "collapsed": false,
    "slideshow": {
     "slide_type": "skip"
    }
   },
   "outputs": [
    {
     "name": "stdout",
     "output_type": "stream",
     "text": [
      "\n"
     ]
    }
   ],
   "source": [
    "%matplotlib inline\n",
    "%config InlineBackend.figure_format='retina'\n",
    "# import libraries\n",
    "import numpy as np\n",
    "import matplotlib as mp\n",
    "import pandas as pd\n",
    "import matplotlib.pyplot as plt\n",
    "import pandas as pd\n",
    "import slideUtilities as sl\n",
    "import laUtilities as ut\n",
    "from importlib import reload\n",
    "from datetime import datetime\n",
    "from IPython.display import Image\n",
    "from IPython.display import display_html\n",
    "from IPython.display import display\n",
    "from IPython.display import Math\n",
    "from IPython.display import Latex\n",
    "from IPython.display import HTML\n",
    "print('')"
   ]
  },
  {
   "cell_type": "code",
   "execution_count": 120,
   "metadata": {
    "collapsed": false,
    "slideshow": {
     "slide_type": "skip"
    }
   },
   "outputs": [
    {
     "data": {
      "text/html": [
       "<style>\n",
       " .container.slides .celltoolbar, .container.slides .hide-in-slideshow {\n",
       "    display: None ! important;\n",
       "}\n",
       "</style>"
      ],
      "text/plain": [
       "<IPython.core.display.HTML object>"
      ]
     },
     "metadata": {},
     "output_type": "display_data"
    }
   ],
   "source": [
    "%%html\n",
    "<style>\n",
    " .container.slides .celltoolbar, .container.slides .hide-in-slideshow {\n",
    "    display: None ! important;\n",
    "}\n",
    "</style>"
   ]
  },
  {
   "cell_type": "markdown",
   "metadata": {
    "slideshow": {
     "slide_type": "skip"
    }
   },
   "source": [
    "%Set up useful MathJax (Latex) macros.\n",
    "%See http://docs.mathjax.org/en/latest/tex.html#defining-tex-macros\n",
    "%These are for use in the slideshow\n",
    "$\\newcommand{\\mat}[1]{\\left[\\begin{array}#1\\end{array}\\right]}$\n",
    "$\\newcommand{\\vx}{{\\mathbf x}}$\n",
    "$\\newcommand{\\hx}{\\hat{\\mathbf x}}$\n",
    "$\\newcommand{\\vbt}{{\\mathbf\\beta}}$\n",
    "$\\newcommand{\\vy}{{\\mathbf y}}$\n",
    "$\\newcommand{\\vz}{{\\mathbf z}}$\n",
    "$\\newcommand{\\R}{{\\mathbb{R}}}$\n",
    "$\\newcommand{\\vu}{{\\mathbf u}}$\n",
    "$\\newcommand{\\vv}{{\\mathbf v}}$\n",
    "$\\newcommand{\\vw}{{\\mathbf w}}$\n",
    "$\\newcommand{\\col}{{\\operatorname{Col}}}$\n",
    "$\\newcommand{\\nul}{{\\operatorname{Nul}}}$\n",
    "$\\newcommand{\\vb}{{\\mathbf b}}$\n",
    "$\\newcommand{\\va}{{\\mathbf a}}$\n",
    "$\\newcommand{\\ve}{{\\mathbf e}}$\n",
    "$\\newcommand{\\setb}{{\\mathcal{B}}}$\n",
    "$\\newcommand{\\rank}{{\\operatorname{rank}}}$\n",
    "$\\newcommand{\\vp}{{\\mathbf p}}$"
   ]
  },
  {
   "cell_type": "raw",
   "metadata": {
    "slideshow": {
     "slide_type": "skip"
    }
   },
   "source": [
    "\\newcommand{\\mat}[1]{\\left[\\begin{array}#1\\end{array}\\right]}\n",
    "\\newcommand{\\vx}{{\\mathbf x}}\n",
    "\\newcommand{\\hx}{\\hat{\\mathbf x}}\n",
    "\\newcommand{\\vbt}{{\\mathbf\\beta}}\n",
    "\\newcommand{\\vy}{{\\mathbf y}}\n",
    "\\newcommand{\\vz}{{\\mathbf z}}\n",
    "\\newcommand{\\vb}{{\\mathbf b}}\n",
    "\\newcommand{\\vu}{{\\mathbf u}}\n",
    "\\newcommand{\\vv}{{\\mathbf v}}\n",
    "\\newcommand{\\vw}{{\\mathbf w}}\n",
    "\\newcommand{\\va}{{\\mathbf a}}\n",
    "\\newcommand{\\ve}{{\\mathbf e}}\n",
    "\\newcommand{\\vp}{{\\mathbf p}}\n",
    "\\newcommand{\\R}{{\\mathbb{R}}}\n",
    "\\newcommand{\\col}{{\\operatorname{Col}}}\n",
    "\\newcommand{\\nul}{{\\operatorname{Nul}}}\n",
    "\\newcommand{\\rank}{{\\operatorname{rank}}}\n",
    "\\newcommand{\\setb}{{\\mathcal{B}}}"
   ]
  },
  {
   "cell_type": "markdown",
   "metadata": {
    "slideshow": {
     "slide_type": "fragment"
    }
   },
   "source": [
    "In the last lecture we learned about the SVD as a tool for constructing low-rank matrices.\n",
    "\n",
    "Today we'll look at it as a way to transform our data objects."
   ]
  },
  {
   "cell_type": "markdown",
   "metadata": {},
   "source": [
    "As a reminder, here is what the SVD looks like:"
   ]
  },
  {
   "cell_type": "markdown",
   "metadata": {},
   "source": [
    "$$ \\mbox{objects}\\left\\{\\begin{array}{c}\\;\\\\\\;\\\\\\;\\\\\\;\\\\\\;\\end{array}\\right.\\;\\;\\overbrace{\\left[\\begin{array}{cccc}\\begin{array}{c}\\vdots\\\\\\vdots\\\\{\\bf a_1}\\\\\\vdots\\\\\\vdots\\end{array}&\\begin{array}{c}\\vdots\\\\\\vdots\\\\{\\bf a_2}\\\\\\vdots\\\\\\vdots\\end{array}&\\dots&\\begin{array}{c}\\vdots\\\\\\vdots\\\\{\\bf a_n}\\\\\\vdots\\\\\\vdots\\end{array}\\\\\\end{array}\\right]}^{\\mbox{features}} =\n",
    "\\overbrace{\\left[\\begin{array}{cc}\\vdots&\\vdots\\\\\\vdots&\\vdots\\\\\\sigma_1\\vu_1&\\sigma_k\\vu_k\\\\\\vdots&\\vdots\\\\\\vdots&\\vdots\\end{array}\\right]}^{\\large k}\n",
    "\\times\n",
    "\\left[\\begin{array}{ccccc}\\dots&\\dots&\\vv_1&\\dots&\\dots\\\\\\dots&\\dots&\\vv_k&\\dots&\\dots\\end{array}\\right]$$\n",
    "\n",
    "\n",
    "$$ A = U\\Sigma V^T$$"
   ]
  },
  {
   "cell_type": "markdown",
   "metadata": {},
   "source": [
    "Notice that $U$ contains a row for each object.   \n",
    "\n",
    "In a sense we have transformed objects from an $m$ dimensional space to a $k$ dimensional space, where $k$ is (probably much) smaller than $m$."
   ]
  },
  {
   "cell_type": "markdown",
   "metadata": {},
   "source": [
    "This suggests an idea: is there an __optimal__ transformation of the data into $k$ dimensions?\n",
    "    \n",
    "What would that mean?   \n",
    "\n",
    "One criterion: a transformation that captures the maximum __variance__ in the data."
   ]
  },
  {
   "cell_type": "code",
   "execution_count": 121,
   "metadata": {
    "collapsed": false
   },
   "outputs": [
    {
     "data": {
      "image/png": "[encoded data removed]",
      "text/plain": [
       "<matplotlib.figure.Figure at 0x12a409cc0>"
      ]
     },
     "metadata": {
      "image/png": {
       "height": 349,
       "width": 359
      }
     },
     "output_type": "display_data"
    }
   ],
   "source": [
    "n_samples = 500\n",
    "C = np.array([[0.1, 0.6], [2., .6]])\n",
    "X = np.random.randn(n_samples, 2) @ C + np.array([-6, 3])\n",
    "ax = ut.plotSetup(-10,10,-10,10,(6,6))\n",
    "ut.centerAxes(ax)\n",
    "plt.axis('equal')\n",
    "_ = plt.scatter(X[:, 0], X[:, 1], s=10, alpha=0.8)"
   ]
  },
  {
   "cell_type": "markdown",
   "metadata": {},
   "source": [
    "What would happen if we used SVD, and kept only rank-1 approximation to the data?\n",
    "\n",
    "This would be the 1-D __subspace__ that approximates the data best.   \n",
    "\n",
    "However the variance in the data is defined with respect to the data mean, so we need to mean-center the data first, before using SVD.\n",
    "\n",
    "That is, SVD in this case finds the best 1-D subspace, not the best line though the data (which might not pass through the origin)."
   ]
  },
  {
   "cell_type": "markdown",
   "metadata": {},
   "source": [
    "So to capture the best line through the data, we first move the data points to the origin:"
   ]
  },
  {
   "cell_type": "code",
   "execution_count": 122,
   "metadata": {
    "collapsed": false
   },
   "outputs": [
    {
     "data": {
      "image/png": "[encoded data removed]",
      "text/plain": [
       "<matplotlib.figure.Figure at 0x129c95d68>"
      ]
     },
     "metadata": {
      "image/png": {
       "height": 349,
       "width": 359
      }
     },
     "output_type": "display_data"
    }
   ],
   "source": [
    "Xc = X - np.mean(X,axis=0)\n",
    "ax = ut.plotSetup(-10,10,-10,10,(6,6))\n",
    "ut.centerAxes(ax)\n",
    "plt.axis('equal')\n",
    "plt.scatter(X[:, 0], X[:, 1], s=10, alpha=0.8)\n",
    "_ = plt.scatter(Xc[:, 0], Xc[:, 1], s=10, alpha=0.8, color='r')"
   ]
  },
  {
   "cell_type": "markdown",
   "metadata": {},
   "source": [
    "Now let's construct the best 1-D approximation of the mean-centered data:"
   ]
  },
  {
   "cell_type": "code",
   "execution_count": 123,
   "metadata": {
    "collapsed": false
   },
   "outputs": [
    {
     "data": {
      "image/png": "[encoded data removed]",
      "text/plain": [
       "<matplotlib.figure.Figure at 0x129c9e9e8>"
      ]
     },
     "metadata": {
      "image/png": {
       "height": 460,
       "width": 460
      }
     },
     "output_type": "display_data"
    }
   ],
   "source": [
    "u, s, vt = np.linalg.svd(Xc,full_matrices=False)\n",
    "scopy = s.copy()\n",
    "scopy[1] = 0.\n",
    "reducedX = u @ np.diag(scopy) @ vt\n",
    "ax = ut.plotSetup(-10,10,-10,10,(8,8))\n",
    "ut.centerAxes(ax)\n",
    "plt.axis('equal')\n",
    "plt.scatter(Xc[:,0],Xc[:,1], color='r')\n",
    "plt.scatter(reducedX[:,0], reducedX[:,1])\n",
    "endpoints = np.array([[-10],[10]]) @ vt[[0],:]\n",
    "_ = plt.plot(endpoints[:,0], endpoints[:,1], 'g-')"
   ]
  },
  {
   "cell_type": "markdown",
   "metadata": {},
   "source": [
    "This method is called __Principal Component Analysis.__\n",
    "\n",
    "In summary, PCA consists of:\n",
    "\n",
    "1. Mean center the data, and\n",
    "2. Reduce the dimension of the mean-centered data via SVD."
   ]
  },
  {
   "cell_type": "markdown",
   "metadata": {},
   "source": [
    "This is equivalent to projecting the data onto the subspace that captures the maximum variance in the data."
   ]
  },
  {
   "cell_type": "markdown",
   "metadata": {},
   "source": [
    "It winds up constructing the __best low dimensional approximation of the data.__"
   ]
  },
  {
   "cell_type": "markdown",
   "metadata": {},
   "source": [
    "What are \"principal components\"?"
   ]
  },
  {
   "cell_type": "markdown",
   "metadata": {},
   "source": [
    "These are nothing more than the columns of $U$ (or the rows of $V^T$).  Because they capture the direction of maximum variation, they are called \"principal\" components."
   ]
  },
  {
   "cell_type": "markdown",
   "metadata": {},
   "source": [
    "## Uses of PCA/SVD"
   ]
  },
  {
   "cell_type": "markdown",
   "metadata": {},
   "source": [
    "There are many uses of PCA (and SVD).\n",
    "\n",
    "We'll cover three of the main uses:\n",
    "\n",
    "1. Visualization\n",
    "2. Denoising\n",
    "3. Anomaly Detection\n",
    "\n",
    "As already mentioned, SVD is also useful for data compression -- we won't discuss it in detail, but it is the principle behind audio and video compression (MP3s, HDTV, etc)."
   ]
  },
  {
   "cell_type": "markdown",
   "metadata": {},
   "source": [
    "## Visualization and Denoising -- Extended Example."
   ]
  },
  {
   "cell_type": "markdown",
   "metadata": {},
   "source": [
    "We will study both visualization and denoising in the context of text processing."
   ]
  },
  {
   "cell_type": "markdown",
   "metadata": {},
   "source": [
    "As we have seen, a common way to work with documents is using the bag-of-words model (perhaps considering n-grams), which results in a term-document matrix.\n",
    "\n",
    "Entries in the matrix are generally TF-IDF scores."
   ]
  },
  {
   "cell_type": "markdown",
   "metadata": {},
   "source": [
    "Often, terms are correlated -- they appear together in combinations that suggest a certain \"concept\".\n",
    "\n",
    "That is, term-document matrices often show low effective rank -- many columns can be approximated as combinations of other columns."
   ]
  },
  {
   "cell_type": "markdown",
   "metadata": {},
   "source": [
    "When PCA is used for dimensionality reduction of documents, it tends to to extract these \"concept\" vectors.\n",
    "\n",
    "The application of PCA to term-document matrices is called __Latent Semantic Analysis (LSA).__"
   ]
  },
  {
   "cell_type": "markdown",
   "metadata": {
    "collapsed": true
   },
   "source": [
    "Among other benefits, LSA can improve the performance of clustering of documents.\n",
    "\n",
    "This happens because the important concepts are captured in the most significant principal components."
   ]
  },
  {
   "cell_type": "markdown",
   "metadata": {},
   "source": [
    "## Text Analysis: Stemming"
   ]
  },
  {
   "cell_type": "markdown",
   "metadata": {},
   "source": [
    "One source of noise that we can eliminate (before we use LSA) comes from word endings.\n",
    "\n",
    "For example: a Google search on 'run' will return web pages on 'running.'\n",
    "\n",
    "This is useful, because the difference between 'run' and 'running' in practice is not enough to matter."
   ]
  },
  {
   "cell_type": "markdown",
   "metadata": {},
   "source": [
    "The usual solution taken is to simply 'chop off' the part of the word that indicates a variation from the base word.\n",
    "\n",
    "(For those of you who studied Latin or Greek, this will sound familiar -- we are removing the 'inflection.')\n",
    "\n",
    "The process is called 'stemming.'"
   ]
  },
  {
   "cell_type": "markdown",
   "metadata": {},
   "source": [
    "A very good stemmer is the 'Snowball' stemmer.  \n",
    "\n",
    "You can read more at http://www.nltk.org and http://www.nltk.org/howto/stem.html.\n",
    "\n",
    "__Installation Note:__ From a cell you need to call nltk.download() and select the appropriate packages from the interface that appears.  In particular you need to download: `stopwords` from _corpora_ and `punkt` and `snowball_data` from _models._"
   ]
  },
  {
   "cell_type": "markdown",
   "metadata": {},
   "source": [
    "## Data: 20 Newsgroups"
   ]
  },
  {
   "cell_type": "code",
   "execution_count": 124,
   "metadata": {
    "collapsed": false
   },
   "outputs": [],
   "source": [
    "from sklearn.datasets import fetch_20newsgroups\n",
    "\n",
    "categories = ['comp.os.ms-windows.misc', 'sci.space','rec.sport.baseball']\n",
    "news_data = fetch_20newsgroups(subset='train', categories=categories)"
   ]
  },
  {
   "cell_type": "code",
   "execution_count": null,
   "metadata": {
    "collapsed": false
   },
   "outputs": [
    {
     "name": "stdout",
     "output_type": "stream",
     "text": [
      "['comp.os.ms-windows.misc', 'rec.sport.baseball', 'sci.space']\n",
      "[2 0 0 ..., 2 1 2]\n"
     ]
    }
   ],
   "source": [
    "print(news_data.target_names)\n",
    "print(news_data.target)\n",
    "\n",
    "# import nltk\n",
    "# nltk.download()"
   ]
  },
  {
   "cell_type": "markdown",
   "metadata": {},
   "source": [
    "Let's stem the data using the Snowball stemmer:"
   ]
  },
  {
   "cell_type": "code",
   "execution_count": null,
   "metadata": {
    "collapsed": false
   },
   "outputs": [],
   "source": [
    "from nltk.stem.snowball import SnowballStemmer\n",
    "from nltk.tokenize import word_tokenize, sent_tokenize\n",
    "\n",
    "\n",
    "stemmed_data = [\" \".join(SnowballStemmer(\"english\", ignore_stopwords=True).stem(word)  \n",
    "         for sent in sent_tokenize(message)\n",
    "        for word in word_tokenize(sent))\n",
    "        for message in news_data.data]\n",
    "\n",
    "# stemmed_data = news_data.data"
   ]
  },
  {
   "cell_type": "code",
   "execution_count": null,
   "metadata": {
    "collapsed": false
   },
   "outputs": [],
   "source": [
    "print(stemmed_data[0])"
   ]
  },
  {
   "cell_type": "markdown",
   "metadata": {},
   "source": [
    "Now that our data is stemmed, let's compute tf-idf scores.\n",
    "\n",
    "Notice that we will let the tokenizer compute $n$-grams for $n=$1 and 2.  \n",
    "\n",
    "An $n$-gram is a set of $n$ consecutive terms."
   ]
  },
  {
   "cell_type": "code",
   "execution_count": null,
   "metadata": {
    "collapsed": true
   },
   "outputs": [],
   "source": [
    "from sklearn.feature_extraction.text import TfidfVectorizer\n",
    "\n",
    "vectorizer = TfidfVectorizer(stop_words='english', min_df=4,max_df=0.8)\n",
    "dtm = vectorizer.fit_transform(stemmed_data)"
   ]
  },
  {
   "cell_type": "code",
   "execution_count": null,
   "metadata": {
    "collapsed": false
   },
   "outputs": [],
   "source": [
    "print(type(dtm), dtm.shape)\n",
    "terms = vectorizer.get_feature_names()\n",
    "print(terms)"
   ]
  },
  {
   "cell_type": "markdown",
   "metadata": {},
   "source": [
    "Notice that some 2-grams are present."
   ]
  },
  {
   "cell_type": "markdown",
   "metadata": {},
   "source": [
    "## Demonstrating PCA"
   ]
  },
  {
   "cell_type": "markdown",
   "metadata": {},
   "source": [
    "As a comparison case, let's first cluster the documents using the raw tf-idf scores.\n",
    "\n",
    "(This is without any use of PCA, and so includes lots of noisy or meaningless terms.)"
   ]
  },
  {
   "cell_type": "code",
   "execution_count": null,
   "metadata": {
    "collapsed": false
   },
   "outputs": [],
   "source": [
    "from sklearn.cluster import KMeans\n",
    "k = 3\n",
    "kmeans = KMeans(n_clusters=k, init='k-means++', max_iter=100, n_init=10,random_state=0)\n",
    "kmeans.fit_predict(dtm)\n",
    "centroids = kmeans.cluster_centers_\n",
    "labels = kmeans.labels_\n",
    "error = kmeans.inertia_"
   ]
  },
  {
   "cell_type": "markdown",
   "metadata": {},
   "source": [
    "Let's evaluate the clusters.  We'll assume that the newgroup the article came from is the 'ground truth.'"
   ]
  },
  {
   "cell_type": "code",
   "execution_count": null,
   "metadata": {
    "collapsed": false
   },
   "outputs": [],
   "source": [
    "import sklearn.metrics as metrics\n",
    "ri = metrics.adjusted_rand_score(labels,news_data.target)\n",
    "ss = metrics.silhouette_score(dtm,kmeans.labels_,metric='euclidean')\n",
    "print(ri)\n",
    "print(error)\n",
    "print(ss)"
   ]
  },
  {
   "cell_type": "markdown",
   "metadata": {},
   "source": [
    "OK.  Now, let's apply PCA.\n",
    "\n",
    "Our data matrix is in sparse form.\n",
    "\n"
   ]
  },
  {
   "cell_type": "markdown",
   "metadata": {},
   "source": [
    "Mean center."
   ]
  },
  {
   "cell_type": "markdown",
   "metadata": {},
   "source": [
    "`vectors` is a sparse matrix."
   ]
  },
  {
   "cell_type": "code",
   "execution_count": null,
   "metadata": {
    "collapsed": false
   },
   "outputs": [],
   "source": [
    "dtm_dense = dtm.todense()\n",
    "centered_dtm = dtm_dense - np.mean(dtm_dense, axis=0)\n",
    "np.sum(centered_dtm,axis=0)[:,:10]"
   ]
  },
  {
   "cell_type": "code",
   "execution_count": null,
   "metadata": {
    "collapsed": false
   },
   "outputs": [],
   "source": [
    "u, s, vt = np.linalg.svd(centered_dtm)"
   ]
  },
  {
   "cell_type": "markdown",
   "metadata": {},
   "source": [
    "Note that if you have sparse data, you may want to use `scipy.sparse.linalg.svds()` and for large data it may be advantageous to use `sklearn.decomposition.TruncatedSVD()`."
   ]
  },
  {
   "cell_type": "markdown",
   "metadata": {},
   "source": [
    "The principal components (rows of $V^T$) encode the extracted concepts.\n",
    "\n",
    "Each LSA __concept__ is a linear combination of words."
   ]
  },
  {
   "cell_type": "code",
   "execution_count": null,
   "metadata": {
    "collapsed": false
   },
   "outputs": [],
   "source": [
    "pd.DataFrame(vt,columns=vectorizer.get_feature_names())"
   ]
  },
  {
   "cell_type": "markdown",
   "metadata": {},
   "source": [
    "The rows of $U$ correpond to documents, which are linear combinations of __concepts__."
   ]
  },
  {
   "cell_type": "markdown",
   "metadata": {},
   "source": [
    "## Denoising"
   ]
  },
  {
   "cell_type": "markdown",
   "metadata": {},
   "source": [
    "In order to improve our clustering accuracy, we will __exclude__ the less significant concepts from the documents' feature vectors.\n",
    "\n",
    "That is, we will choose the leftmost $k$ columns of $U$ and the topmost $k$ rows of $V^T$.  \n",
    "\n",
    "The reduced set of columns of $U$ are our new document encodings, and it is those that we will cluster."
   ]
  },
  {
   "cell_type": "code",
   "execution_count": null,
   "metadata": {
    "collapsed": false
   },
   "outputs": [],
   "source": [
    "plt.xlim([0,50])\n",
    "plt.plot(range(1,len(s)+1),s)"
   ]
  },
  {
   "cell_type": "markdown",
   "metadata": {},
   "source": [
    "It looks like 2 is a reasonable number of principal components."
   ]
  },
  {
   "cell_type": "code",
   "execution_count": null,
   "metadata": {
    "collapsed": false
   },
   "outputs": [],
   "source": [
    "ri = []\n",
    "ss = []\n",
    "max = len(u)\n",
    "for k in range(1,50):\n",
    "    vectorsk = u[:,:k] @ np.diag(s[:k])\n",
    "    kmeans = KMeans(n_clusters=3, init='k-means++', max_iter=100, n_init=10, random_state=0)\n",
    "    kmeans.fit_predict(vectorsk)\n",
    "    labelsk = kmeans.labels_\n",
    "    ri.append(metrics.adjusted_rand_score(labelsk,news_data.target))\n",
    "    ss.append(metrics.silhouette_score(vectorsk,kmeans.labels_,metric='euclidean'))"
   ]
  },
  {
   "cell_type": "code",
   "execution_count": null,
   "metadata": {
    "collapsed": false
   },
   "outputs": [],
   "source": [
    "plt.plot(range(1,50),ri)\n",
    "plt.ylabel('Rand Score',size=20)\n",
    "plt.xlabel('No of Prin Comps',size=20)"
   ]
  },
  {
   "cell_type": "code",
   "execution_count": null,
   "metadata": {
    "collapsed": false
   },
   "outputs": [],
   "source": [
    "news_data.target_names"
   ]
  },
  {
   "cell_type": "code",
   "execution_count": null,
   "metadata": {
    "collapsed": false
   },
   "outputs": [],
   "source": [
    "plt.plot(range(1,50),ss)\n",
    "plt.ylabel('Silhouette Score',size=20)\n",
    "plt.xlabel('No of Prin Comps',size=20)"
   ]
  },
  {
   "cell_type": "markdown",
   "metadata": {},
   "source": [
    "Note that we can get good accuracy with just __two__ principal components."
   ]
  },
  {
   "cell_type": "markdown",
   "metadata": {},
   "source": [
    "## Visualization"
   ]
  },
  {
   "cell_type": "markdown",
   "metadata": {},
   "source": [
    "That's a good thing, because it means that we can __visualize__ the data well with the help of PCA."
   ]
  },
  {
   "cell_type": "code",
   "execution_count": null,
   "metadata": {
    "collapsed": false
   },
   "outputs": [],
   "source": [
    "import seaborn as sns\n",
    "k = 5\n",
    "Xk = u[:,:k] @ np.diag(s[:k])\n",
    "X_df = pd.DataFrame(Xk)\n",
    "g = sns.PairGrid(X_df)\n",
    "g.map(plt.scatter)"
   ]
  },
  {
   "cell_type": "code",
   "execution_count": null,
   "metadata": {
    "collapsed": false
   },
   "outputs": [],
   "source": [
    "with sns.axes_style(\"white\"):\n",
    "    fig, ax = plt.subplots(1,1,figsize=(10,10))\n",
    "    cmap = sns.hls_palette(n_colors=3, h=0.35, l=0.4, s=0.9)\n",
    "    for i, label in enumerate(set(news_data.target)):\n",
    "        point_indices = np.where(news_data.target == label)[0]\n",
    "        point_indices = point_indices.tolist()\n",
    "        plt.scatter(Xk[point_indices,0], Xk[point_indices,1], s=20, alpha=0.5, c=cmap[i], marker='D',\n",
    "label=news_data.target_names[i])\n",
    "        plt.legend(prop={'size':14}, loc=2)\n",
    "    sns.despine()\n",
    "_ = plt.title('Ground Truth', size=20)"
   ]
  },
  {
   "cell_type": "code",
   "execution_count": null,
   "metadata": {
    "collapsed": false
   },
   "outputs": [],
   "source": [
    "k = 3\n",
    "kmeans = KMeans(n_clusters=k, init='k-means++', max_iter=100, n_init=10,random_state=0)\n",
    "kmeans.fit_predict(dtm)\n",
    "centroids = kmeans.cluster_centers_\n",
    "labels = kmeans.labels_\n",
    "error = kmeans.inertia_\n",
    "\n",
    "with sns.axes_style(\"white\"):\n",
    "    fig, ax = plt.subplots(1,1,figsize=(10,10))\n",
    "    cmap = sns.hls_palette(n_colors=3, h=0.35, l=0.4, s=0.9)\n",
    "    for i in range(k):\n",
    "        point_indices = np.where(labels == i)[0]\n",
    "        point_indices = point_indices.tolist()\n",
    "        plt.scatter(Xk[point_indices,0], Xk[point_indices,1], s=20, alpha=0.5, c=cmap[i], marker='D',\n",
    "label=news_data.target_names[i])\n",
    "    sns.despine()\n",
    "plt.title('Clusters On Full Dataset, Dimension = {}'.format(dtm.shape[1]),size=20)\n",
    "    \n",
    "print(metrics.adjusted_rand_score(labels,news_data.target))"
   ]
  },
  {
   "cell_type": "code",
   "execution_count": null,
   "metadata": {
    "collapsed": false
   },
   "outputs": [],
   "source": [
    "k = 3\n",
    "kmeans = KMeans(n_clusters=k, init='k-means++', max_iter=100, n_init=10,random_state=0)\n",
    "kmeans.fit_predict(Xk[:,:2])\n",
    "centroids = kmeans.cluster_centers_\n",
    "labels = kmeans.labels_\n",
    "error = kmeans.inertia_\n",
    "\n",
    "with sns.axes_style(\"white\"):\n",
    "    fig, ax = plt.subplots(1,1,figsize=(10,10))\n",
    "    cmap = sns.hls_palette(n_colors=3, h=0.35, l=0.4, s=0.9)\n",
    "    for i, label in enumerate(set(news_data.target)):\n",
    "        point_indices = np.where(labels == label)[0]\n",
    "        point_indices = point_indices.tolist()\n",
    "        plt.scatter(Xk[point_indices,0], Xk[point_indices,1], s=20, alpha=0.5, c=cmap[i], marker='D',\n",
    "label=news_data.target_names[i])\n",
    "        plt.legend(prop={'size':14}, loc=2)\n",
    "    sns.despine()\n",
    "plt.title('Clusters On Full Dataset, Dimension = 2'.format(dtm.shape[1]),size=20)\n",
    "\n",
    "print(metrics.adjusted_rand_score(labels,news_data.target))"
   ]
  },
  {
   "cell_type": "code",
   "execution_count": null,
   "metadata": {
    "collapsed": false
   },
   "outputs": [],
   "source": [
    "k = 6\n",
    "kmeans = KMeans(n_clusters=k, init='k-means++', max_iter=100, n_init=10,random_state=0)\n",
    "kmeans.fit_predict(Xk[:,:6])\n",
    "centroids = kmeans.cluster_centers_\n",
    "labels = kmeans.labels_\n",
    "error = kmeans.inertia_\n",
    "\n",
    "with sns.axes_style(\"white\"):\n",
    "    fig, ax = plt.subplots(1,1,figsize=(10,10))\n",
    "    cmap = sns.hls_palette(n_colors=k, h=0.35, l=0.4, s=0.9)\n",
    "    for i in range(k):\n",
    "        point_indices = np.where(labels == i)[0]\n",
    "        point_indices = point_indices.tolist()\n",
    "        plt.scatter(Xk[point_indices,0], Xk[point_indices,1], s=20, alpha=0.5, c=cmap[i], marker='D')\n",
    "    sns.despine()\n",
    "    \n",
    "print(metrics.adjusted_rand_score(labels,news_data.target))"
   ]
  },
  {
   "cell_type": "code",
   "execution_count": null,
   "metadata": {
    "collapsed": false
   },
   "outputs": [],
   "source": [
    "k = 6\n",
    "kmeans = KMeans(n_clusters=k, init='k-means++', max_iter=100, n_init=10,random_state=0)\n",
    "kmeans.fit_predict(dtm)\n",
    "centroids = kmeans.cluster_centers_\n",
    "labels = kmeans.labels_\n",
    "error = kmeans.inertia_\n",
    "\n",
    "with sns.axes_style(\"white\"):\n",
    "    fig, ax = plt.subplots(1,1,figsize=(10,10))\n",
    "    cmap = sns.hls_palette(n_colors=k, h=0.35, l=0.4, s=0.9)\n",
    "    for i in range(k):\n",
    "        point_indices = np.where(labels == i)[0]\n",
    "        point_indices = point_indices.tolist()\n",
    "        plt.scatter(Xk[point_indices,0], Xk[point_indices,1], s=20, alpha=0.5, c=cmap[i], marker='D')\n",
    "    sns.despine()\n",
    "plt.title('Clusters On Full Dataset, Dimension = {}'.format(dtm.shape[1]),size=20)\n",
    "    \n",
    "print(metrics.adjusted_rand_score(labels,news_data.target))"
   ]
  },
  {
   "cell_type": "code",
   "execution_count": null,
   "metadata": {
    "collapsed": false
   },
   "outputs": [],
   "source": [
    "k = 5\n",
    "Xk = u[:,:k] @ np.diag(s[:k])\n",
    "X_df = pd.DataFrame(Xk)\n",
    "g = sns.PairGrid(X_df)\n",
    "def pltColor(x,y,label,color):\n",
    "    cmap = sns.hls_palette(n_colors=3, h=0.35, l=0.4, s=0.9)\n",
    "    for i in range(3):\n",
    "        point_indices = np.where(news_data.target == i)[0]\n",
    "        point_indices = point_indices.tolist()\n",
    "        plt.scatter(x[point_indices], y[point_indices], c=cmap[i])\n",
    "    sns.despine()\n",
    "g.map(pltColor)"
   ]
  },
  {
   "cell_type": "markdown",
   "metadata": {},
   "source": [
    "## Looking at the Topics"
   ]
  },
  {
   "cell_type": "code",
   "execution_count": null,
   "metadata": {
    "collapsed": false
   },
   "outputs": [],
   "source": [
    "for i in range(6):\n",
    "    top = np.argsort(vt[i])\n",
    "    topterms = [terms[top[0,f]] for f in range(12)]\n",
    "    print (i, topterms)"
   ]
  }
 ],
 "metadata": {
  "anaconda-cloud": {},
  "celltoolbar": "Slideshow",
  "kernelspec": {
   "display_name": "Python [conda root]",
   "language": "python",
   "name": "conda-root-py"
  },
  "language_info": {
   "codemirror_mode": {
    "name": "ipython",
    "version": 3
   },
   "file_extension": ".py",
   "mimetype": "text/x-python",
   "name": "python",
   "nbconvert_exporter": "python",
   "pygments_lexer": "ipython3",
   "version": "3.5.2"
  }
 },
 "nbformat": 4,
 "nbformat_minor": 0
}
